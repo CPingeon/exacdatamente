{
 "cells": [
  {
   "cell_type": "markdown",
   "metadata": {},
   "source": [
    "# (04) réation de la BDD, des tables et import des données sur PostgreSQL"
   ]
  },
  {
   "cell_type": "markdown",
   "metadata": {},
   "source": [
    "---"
   ]
  },
  {
   "cell_type": "markdown",
   "metadata": {},
   "source": [
    "## 01 - Création de la BDD"
   ]
  },
  {
   "cell_type": "code",
   "execution_count": 1,
   "metadata": {},
   "outputs": [],
   "source": [
    "import psycopg2, os"
   ]
  },
  {
   "cell_type": "code",
   "execution_count": 2,
   "metadata": {},
   "outputs": [
    {
     "name": "stdout",
     "output_type": "stream",
     "text": [
      "Base de données créée avec succès !\n"
     ]
    }
   ],
   "source": [
    "conn = psycopg2.connect(database=\"postgres\", user='postgres', password=os.environ.get(\"pg_psw\"), host='localhost', port= '5432')\n",
    "\n",
    "conn.autocommit = True\n",
    "\n",
    "cursor = conn.cursor()\n",
    "\n",
    "sql = '''CREATE database db_exac''';\n",
    "\n",
    "cursor.execute(sql)\n",
    "print(\"Base de données créée avec succès !\")\n",
    "\n",
    "conn.close()"
   ]
  },
  {
   "cell_type": "markdown",
   "metadata": {},
   "source": [
    "---"
   ]
  },
  {
   "cell_type": "markdown",
   "metadata": {},
   "source": [
    "## 02 - Création des tables"
   ]
  },
  {
   "cell_type": "code",
   "execution_count": 3,
   "metadata": {},
   "outputs": [],
   "source": [
    "def creer_table(conn, sql_creation_table):\n",
    "    try:\n",
    "        cursor = conn.cursor()\n",
    "        cursor.execute(sql_creation_table)\n",
    "        conn.commit()\n",
    "    except psycopg2.Error as e:\n",
    "        print(\"Erreur lors de la création de la table\")\n",
    "        print(e)\n",
    "        return\n",
    "    cursor.close()\n",
    "    print(\"Les tables ont été crées avec succès\")"
   ]
  },
  {
   "cell_type": "code",
   "execution_count": 4,
   "metadata": {},
   "outputs": [],
   "source": [
    "sql_creer_tables = \"\"\"\n",
    "    CREATE TABLE IF NOT EXISTS product (\n",
    "    product_id CHAR(20) NOT NULL PRIMARY KEY,\n",
    "    name VARCHAR(200),\n",
    "    colors VARCHAR,\n",
    "    primaryCategories VARCHAR,\n",
    "    categories VARCHAR,\n",
    "    dateAdded CHAR(20),\n",
    "    dateUpdated CHAR(20),\n",
    "    sourceURLs VARCHAR,\n",
    "    imageURLs VARCHAR,\n",
    "    review_id INT,\n",
    "    price_id INT);\n",
    "    \n",
    "    CREATE TABLE IF NOT EXISTS manufacturer (\n",
    "    manufacturer_id SERIAL PRIMARY KEY,\n",
    "    manufacturer VARCHAR(40),\n",
    "    brand VARCHAR,\n",
    "    manufacturerNumber VARCHAR(30),\n",
    "    product_id CHAR(20) NOT NULL,\n",
    "    FOREIGN KEY (product_id) REFERENCES product(product_id));\n",
    "    \n",
    "    CREATE TABLE IF NOT EXISTS logistics (\n",
    "    logistics_id SERIAL PRIMARY KEY,\n",
    "    asins VARCHAR,\n",
    "    ean VARCHAR,\n",
    "    upc VARCHAR,\n",
    "    dimension VARCHAR(50),\n",
    "    weight VARCHAR,\n",
    "    keys VARCHAR,\n",
    "    product_id CHAR(20) NOT NULL,\n",
    "    FOREIGN KEY (product_id) REFERENCES product(product_id));\n",
    "    \n",
    "    CREATE TABLE IF NOT EXISTS reviews (\n",
    "    review_id SERIAL PRIMARY KEY,\n",
    "    product_id CHAR(20) NOT NULL,\n",
    "    username VARCHAR(40),\n",
    "    date VARCHAR,\n",
    "    title VARCHAR,\n",
    "    text VARCHAR,\n",
    "    rating REAL,\n",
    "    doRecommend VARCHAR(20),\n",
    "    numHelpful REAL,\n",
    "    dateSeen VARCHAR,\n",
    "    sourceURLs VARCHAR,\n",
    "    FOREIGN KEY (product_id) REFERENCES product(product_id));\n",
    "    \n",
    "    CREATE TABLE IF NOT EXISTS prices (\n",
    "    price_id SERIAL PRIMARY KEY,\n",
    "    amountMax REAL,\n",
    "    amountMin REAL,\n",
    "    availability VARCHAR(20),\n",
    "    condition VARCHAR,\n",
    "    currency CHAR(3),\n",
    "    dateSeen VARCHAR,\n",
    "    isSale BOOL,\n",
    "    merchant VARCHAR(50),\n",
    "    shipping VARCHAR(50),\n",
    "    sourceURLs VARCHAR,\n",
    "    product_id CHAR(20) NOT NULL,\n",
    "    FOREIGN KEY (product_id) REFERENCES product(product_id));\n",
    "\"\"\""
   ]
  },
  {
   "cell_type": "code",
   "execution_count": 5,
   "metadata": {},
   "outputs": [],
   "source": [
    "def ouvrir_connection(nom_bdd, utilisateur, mot_passe, host='localhost', port=5432):\n",
    "    \n",
    "    try:\n",
    "        conn = psycopg2.connect(dbname=nom_bdd, user=utilisateur, password=mot_passe, host=host, port=5432)\n",
    "    except psycopg2.Error as e:\n",
    "        print(\"Erreur lors de la connection à la base de données\")\n",
    "        print(e)\n",
    "        return None\n",
    "    conn.set_session(autocommit=True)\n",
    "    \n",
    "    return conn"
   ]
  },
  {
   "cell_type": "code",
   "execution_count": 6,
   "metadata": {},
   "outputs": [],
   "source": [
    "ma_base_donnees = \"db_exac\"\n",
    "utilisateur = \"postgres\"\n",
    "mot_passe = os.environ.get(\"pg_psw\")"
   ]
  },
  {
   "cell_type": "code",
   "execution_count": 7,
   "metadata": {},
   "outputs": [
    {
     "data": {
      "text/plain": [
       "psycopg2.extensions.connection"
      ]
     },
     "execution_count": 7,
     "metadata": {},
     "output_type": "execute_result"
    }
   ],
   "source": [
    "conn = ouvrir_connection(ma_base_donnees, utilisateur, mot_passe)\n",
    "type(conn)"
   ]
  },
  {
   "cell_type": "code",
   "execution_count": 8,
   "metadata": {},
   "outputs": [
    {
     "name": "stdout",
     "output_type": "stream",
     "text": [
      "Les tables ont été crées avec succès\n"
     ]
    }
   ],
   "source": [
    "creer_table(conn, sql_creer_tables)"
   ]
  },
  {
   "cell_type": "markdown",
   "metadata": {},
   "source": [
    "---"
   ]
  },
  {
   "cell_type": "markdown",
   "metadata": {},
   "source": [
    "## 03 - Insertion des données par le biais des fichiers CSV"
   ]
  },
  {
   "cell_type": "markdown",
   "metadata": {},
   "source": [
    "### Importation données table \"product\""
   ]
  },
  {
   "cell_type": "code",
   "execution_count": 9,
   "metadata": {},
   "outputs": [
    {
     "name": "stdout",
     "output_type": "stream",
     "text": [
      "Importation réalisée avec succès !\n"
     ]
    }
   ],
   "source": [
    "conn = psycopg2.connect(database=\"db_exac\", user='postgres', password=os.environ.get(\"pg_psw\"), host='localhost', port= '5432')\n",
    "\n",
    "conn.autocommit = True\n",
    "\n",
    "cursor = conn.cursor()\n",
    "\n",
    "sql = '''COPY product (product_id, name, colors, primaryCategories, categories, dateAdded, \n",
    "    dateUpdated, sourceURLs, imageURLs) \n",
    "    FROM 'C:\\\\Users\\\\Public\\\\CSV_Tables\\\\product.csv' WITH CSV HEADER \n",
    "    ENCODING 'utf8' DELIMITER ',' QUOTE '\"';\n",
    "    '''\n",
    "\n",
    "cursor.execute(sql)\n",
    "print(\"Importation réalisée avec succès !\")\n",
    "\n",
    "conn.close()"
   ]
  },
  {
   "cell_type": "markdown",
   "metadata": {},
   "source": [
    "---"
   ]
  },
  {
   "cell_type": "markdown",
   "metadata": {},
   "source": [
    "### Importation données table \"manufacturer\""
   ]
  },
  {
   "cell_type": "code",
   "execution_count": 10,
   "metadata": {},
   "outputs": [
    {
     "name": "stdout",
     "output_type": "stream",
     "text": [
      "Importation réalisée avec succès !\n"
     ]
    }
   ],
   "source": [
    "conn = psycopg2.connect(database=\"db_exac\", user='postgres', password=os.environ.get(\"pg_psw\"), host='localhost', port= '5432')\n",
    "\n",
    "conn.autocommit = True\n",
    "\n",
    "cursor = conn.cursor()\n",
    "\n",
    "sql = '''COPY manufacturer (manufacturer, brand, manufacturerNumber, product_id) \n",
    "    FROM 'C:\\\\Users\\\\Public\\\\CSV_Tables\\\\manufacturer.csv' WITH CSV HEADER \n",
    "    ENCODING 'utf8' DELIMITER ',' QUOTE '\"';\n",
    "    '''\n",
    "\n",
    "cursor.execute(sql)\n",
    "print(\"Importation réalisée avec succès !\")\n",
    "\n",
    "conn.close()"
   ]
  },
  {
   "cell_type": "markdown",
   "metadata": {},
   "source": [
    "---"
   ]
  },
  {
   "cell_type": "markdown",
   "metadata": {},
   "source": [
    "### Importation données table \"logistics\""
   ]
  },
  {
   "cell_type": "code",
   "execution_count": 11,
   "metadata": {},
   "outputs": [
    {
     "name": "stdout",
     "output_type": "stream",
     "text": [
      "Importation réalisée avec succès !\n"
     ]
    }
   ],
   "source": [
    "conn = psycopg2.connect(database=\"db_exac\", user='postgres', password=os.environ.get(\"pg_psw\"), host='localhost', port= '5432')\n",
    "\n",
    "conn.autocommit = True\n",
    "\n",
    "cursor = conn.cursor()\n",
    "\n",
    "sql = '''COPY logistics (asins, ean, upc, dimension, weight, keys, product_id) \n",
    "    FROM 'C:\\\\Users\\\\Public\\\\CSV_Tables\\\\logistics.csv' WITH CSV HEADER \n",
    "    ENCODING 'utf8' DELIMITER ',' QUOTE '\"';\n",
    "    '''\n",
    "\n",
    "cursor.execute(sql)\n",
    "print(\"Importation réalisée avec succès !\")\n",
    "\n",
    "conn.close()"
   ]
  },
  {
   "cell_type": "markdown",
   "metadata": {},
   "source": [
    "---"
   ]
  },
  {
   "cell_type": "markdown",
   "metadata": {},
   "source": [
    "### Importation données table \"reviews\""
   ]
  },
  {
   "cell_type": "code",
   "execution_count": 12,
   "metadata": {},
   "outputs": [
    {
     "name": "stdout",
     "output_type": "stream",
     "text": [
      "Importation réalisée avec succès !\n"
     ]
    }
   ],
   "source": [
    "conn = psycopg2.connect(database=\"db_exac\", user='postgres', password=os.environ.get(\"pg_psw\"), host='localhost', port= '5432')\n",
    "\n",
    "conn.autocommit = True\n",
    "\n",
    "cursor = conn.cursor()\n",
    "\n",
    "sql = '''COPY reviews (product_id, username, date, title, text, rating, \n",
    "    doRecommend, numHelpful, dateSeen, sourceURLs) \n",
    "    FROM 'C:\\\\Users\\\\Public\\\\CSV_Tables\\\\reviews.csv' WITH CSV HEADER \n",
    "    ENCODING 'utf8' DELIMITER ',' QUOTE '\"';\n",
    "    '''\n",
    "\n",
    "cursor.execute(sql)\n",
    "print(\"Importation réalisée avec succès !\")\n",
    "\n",
    "conn.close()"
   ]
  },
  {
   "cell_type": "markdown",
   "metadata": {},
   "source": [
    "---"
   ]
  },
  {
   "cell_type": "markdown",
   "metadata": {},
   "source": [
    "### Importation données table \"prices\""
   ]
  },
  {
   "cell_type": "code",
   "execution_count": 13,
   "metadata": {},
   "outputs": [
    {
     "name": "stdout",
     "output_type": "stream",
     "text": [
      "Importation réalisée avec succès !\n"
     ]
    }
   ],
   "source": [
    "conn = psycopg2.connect(database=\"db_exac\", user='postgres', password=os.environ.get(\"pg_psw\"), host='localhost', port= '5432')\n",
    "\n",
    "conn.autocommit = True\n",
    "\n",
    "cursor = conn.cursor()\n",
    "\n",
    "sql = '''COPY prices (amountMax, amountMin, availability, condition, \n",
    "    currency, dateSeen, isSale, merchant, shipping, sourceURLs, product_id) \n",
    "    FROM 'C:\\\\Users\\\\Public\\\\CSV_Tables\\\\prices.csv' WITH CSV HEADER \n",
    "    ENCODING 'utf8' DELIMITER ',' QUOTE '\"';\n",
    "    '''\n",
    "\n",
    "cursor.execute(sql)\n",
    "print(\"Importation réalisée avec succès !\")\n",
    "\n",
    "conn.close()"
   ]
  },
  {
   "cell_type": "markdown",
   "metadata": {},
   "source": [
    "---"
   ]
  },
  {
   "cell_type": "markdown",
   "metadata": {},
   "source": [
    "## 04 - Ajout des index créés pour \"prices\" et \"reviews\" dans la table \"product\""
   ]
  },
  {
   "cell_type": "markdown",
   "metadata": {},
   "source": [
    "### Ajout données \"reviews\""
   ]
  },
  {
   "cell_type": "code",
   "execution_count": 14,
   "metadata": {},
   "outputs": [
    {
     "name": "stdout",
     "output_type": "stream",
     "text": [
      "Ajout effectué avec succès !\n"
     ]
    }
   ],
   "source": [
    "conn = psycopg2.connect(database=\"db_exac\", user='postgres', password=os.environ.get(\"pg_psw\"), host='localhost', port= '5432')\n",
    "\n",
    "conn.autocommit = True\n",
    "\n",
    "cursor = conn.cursor()\n",
    "\n",
    "sql = '''UPDATE product\n",
    "         SET review_id = reviews.review_id\n",
    "         FROM reviews\n",
    "         WHERE reviews.product_id = product.product_id;\n",
    "    '''\n",
    "\n",
    "cursor.execute(sql)\n",
    "print(\"Ajout effectué avec succès !\")\n",
    "\n",
    "conn.close()"
   ]
  },
  {
   "cell_type": "markdown",
   "metadata": {},
   "source": [
    "---"
   ]
  },
  {
   "cell_type": "markdown",
   "metadata": {},
   "source": [
    "### Ajout données \"prices\""
   ]
  },
  {
   "cell_type": "code",
   "execution_count": 15,
   "metadata": {},
   "outputs": [
    {
     "name": "stdout",
     "output_type": "stream",
     "text": [
      "Ajout effectué avec succès !\n"
     ]
    }
   ],
   "source": [
    "conn = psycopg2.connect(database=\"db_exac\", user='postgres', password=os.environ.get(\"pg_psw\"), host='localhost', port= '5432')\n",
    "\n",
    "conn.autocommit = True\n",
    "\n",
    "cursor = conn.cursor()\n",
    "\n",
    "sql = '''UPDATE product\n",
    "         SET price_id = prices.price_id\n",
    "         FROM prices\n",
    "         WHERE prices.product_id = product.product_id;\n",
    "    '''\n",
    "\n",
    "cursor.execute(sql)\n",
    "print(\"Ajout effectué avec succès !\")\n",
    "\n",
    "conn.close()"
   ]
  },
  {
   "cell_type": "markdown",
   "metadata": {},
   "source": [
    "---"
   ]
  },
  {
   "cell_type": "markdown",
   "metadata": {},
   "source": [
    "## 05 - Ajout des FOREIGN KEY \"price_id\" et \"review_id\" dans la table \"product\""
   ]
  },
  {
   "cell_type": "markdown",
   "metadata": {},
   "source": [
    "### Ajout relation \"reviews\""
   ]
  },
  {
   "cell_type": "code",
   "execution_count": 16,
   "metadata": {},
   "outputs": [
    {
     "name": "stdout",
     "output_type": "stream",
     "text": [
      "Relation créée avec respect et robustesse !\n"
     ]
    }
   ],
   "source": [
    "conn = psycopg2.connect(database=\"db_exac\", user='postgres', password=os.environ.get(\"pg_psw\"), host='localhost', port= '5432')\n",
    "\n",
    "conn.autocommit = True\n",
    "\n",
    "cursor = conn.cursor()\n",
    "\n",
    "sql = '''ALTER TABLE product ADD FOREIGN KEY (review_id) REFERENCES reviews(review_id);\n",
    "    '''\n",
    "\n",
    "cursor.execute(sql)\n",
    "print(\"Relation créée avec respect et robustesse !\")\n",
    "\n",
    "conn.close()"
   ]
  },
  {
   "cell_type": "markdown",
   "metadata": {},
   "source": [
    "---"
   ]
  },
  {
   "cell_type": "markdown",
   "metadata": {},
   "source": [
    "### Ajout relation \"prices\""
   ]
  },
  {
   "cell_type": "code",
   "execution_count": 17,
   "metadata": {},
   "outputs": [
    {
     "name": "stdout",
     "output_type": "stream",
     "text": [
      "Relation créée avec respect et robustesse !\n"
     ]
    }
   ],
   "source": [
    "conn = psycopg2.connect(database=\"db_exac\", user='postgres', password=os.environ.get(\"pg_psw\"), host='localhost', port= '5432')\n",
    "\n",
    "conn.autocommit = True\n",
    "\n",
    "cursor = conn.cursor()\n",
    "\n",
    "sql = '''ALTER TABLE product ADD FOREIGN KEY (price_id) REFERENCES prices(price_id);\n",
    "    '''\n",
    "\n",
    "cursor.execute(sql)\n",
    "print(\"Relation créée avec respect et robustesse !\")\n",
    "\n",
    "conn.close()"
   ]
  },
  {
   "cell_type": "markdown",
   "metadata": {},
   "source": [
    "---"
   ]
  }
 ],
 "metadata": {
  "kernelspec": {
   "display_name": "Python 3",
   "language": "python",
   "name": "python3"
  },
  "language_info": {
   "codemirror_mode": {
    "name": "ipython",
    "version": 3
   },
   "file_extension": ".py",
   "mimetype": "text/x-python",
   "name": "python",
   "nbconvert_exporter": "python",
   "pygments_lexer": "ipython3",
   "version": "3.8.6"
  }
 },
 "nbformat": 4,
 "nbformat_minor": 4
}
