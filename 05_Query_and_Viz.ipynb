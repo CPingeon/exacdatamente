{
 "cells": [
  {
   "cell_type": "markdown",
   "metadata": {},
   "source": [
    "# (05) Création des visualisations"
   ]
  },
  {
   "cell_type": "markdown",
   "metadata": {},
   "source": [
    "---"
   ]
  },
  {
   "cell_type": "markdown",
   "metadata": {},
   "source": [
    "#### Connexion à la base de données"
   ]
  },
  {
   "cell_type": "code",
   "execution_count": 4,
   "metadata": {},
   "outputs": [],
   "source": [
    "import os\n",
    "import pandas as pd"
   ]
  },
  {
   "cell_type": "code",
   "execution_count": 5,
   "metadata": {},
   "outputs": [],
   "source": [
    "from sqlalchemy import create_engine"
   ]
  },
  {
   "cell_type": "code",
   "execution_count": 6,
   "metadata": {},
   "outputs": [],
   "source": [
    "user = 'postgres'\n",
    "password = os.environ.get('pg_psw')\n",
    "host = 'localhost'\n",
    "port = '5432'\n",
    "dbname = 'db_exac'  \n",
    "\n",
    "engine = create_engine(f\"postgresql://{user}:{password}@{host}:{port}/{dbname}\")"
   ]
  },
  {
   "cell_type": "markdown",
   "metadata": {},
   "source": [
    "---"
   ]
  },
  {
   "cell_type": "markdown",
   "metadata": {},
   "source": [
    "### _01 - 10 articles avec le plus de reviews_"
   ]
  },
  {
   "cell_type": "code",
   "execution_count": 33,
   "metadata": {},
   "outputs": [
    {
     "data": {
      "text/html": [
       "<div>\n",
       "<style scoped>\n",
       "    .dataframe tbody tr th:only-of-type {\n",
       "        vertical-align: middle;\n",
       "    }\n",
       "\n",
       "    .dataframe tbody tr th {\n",
       "        vertical-align: top;\n",
       "    }\n",
       "\n",
       "    .dataframe thead th {\n",
       "        text-align: right;\n",
       "    }\n",
       "</style>\n",
       "<table border=\"1\" class=\"dataframe\">\n",
       "  <thead>\n",
       "    <tr style=\"text-align: right;\">\n",
       "      <th></th>\n",
       "      <th>Produit</th>\n",
       "      <th>Nombre d'avis</th>\n",
       "    </tr>\n",
       "  </thead>\n",
       "  <tbody>\n",
       "    <tr>\n",
       "      <th>0</th>\n",
       "      <td>Logitech 915-000224  Harmony Ultimate One 15-D...</td>\n",
       "      <td>1604</td>\n",
       "    </tr>\n",
       "    <tr>\n",
       "      <th>1</th>\n",
       "      <td>Microsoft Surface Pro 4 Type Cover with Finger...</td>\n",
       "      <td>495</td>\n",
       "    </tr>\n",
       "    <tr>\n",
       "      <th>2</th>\n",
       "      <td>Sony SRSXB30/BLK XB30 Portable Wireless Speake...</td>\n",
       "      <td>477</td>\n",
       "    </tr>\n",
       "    <tr>\n",
       "      <th>3</th>\n",
       "      <td>Everest Elite 700 Around-Ear Wireless Headphon...</td>\n",
       "      <td>357</td>\n",
       "    </tr>\n",
       "    <tr>\n",
       "      <th>4</th>\n",
       "      <td>Slingbox M2</td>\n",
       "      <td>342</td>\n",
       "    </tr>\n",
       "    <tr>\n",
       "      <th>5</th>\n",
       "      <td>SAMSUNG 40'' Class FHD (1080P) Smart LED TV (U...</td>\n",
       "      <td>340</td>\n",
       "    </tr>\n",
       "    <tr>\n",
       "      <th>6</th>\n",
       "      <td>Alpine - 6-1/2\" 2-Way Coaxial Car Speakers wit...</td>\n",
       "      <td>260</td>\n",
       "    </tr>\n",
       "    <tr>\n",
       "      <th>7</th>\n",
       "      <td>PNY Anarchy 16GB Kit (2x8GB) DDR4 2400MHz (PC4...</td>\n",
       "      <td>191</td>\n",
       "    </tr>\n",
       "    <tr>\n",
       "      <th>8</th>\n",
       "      <td>Sony SRSHG1/BLK Hi-Res Wireless Speaker- Charc...</td>\n",
       "      <td>178</td>\n",
       "    </tr>\n",
       "    <tr>\n",
       "      <th>9</th>\n",
       "      <td>Sanus VLF410B1 10-Inch Super Slim Full-Motion ...</td>\n",
       "      <td>162</td>\n",
       "    </tr>\n",
       "  </tbody>\n",
       "</table>\n",
       "</div>"
      ],
      "text/plain": [
       "                                             Produit  Nombre d'avis\n",
       "0  Logitech 915-000224  Harmony Ultimate One 15-D...           1604\n",
       "1  Microsoft Surface Pro 4 Type Cover with Finger...            495\n",
       "2  Sony SRSXB30/BLK XB30 Portable Wireless Speake...            477\n",
       "3  Everest Elite 700 Around-Ear Wireless Headphon...            357\n",
       "4                                        Slingbox M2            342\n",
       "5  SAMSUNG 40'' Class FHD (1080P) Smart LED TV (U...            340\n",
       "6  Alpine - 6-1/2\" 2-Way Coaxial Car Speakers wit...            260\n",
       "7  PNY Anarchy 16GB Kit (2x8GB) DDR4 2400MHz (PC4...            191\n",
       "8  Sony SRSHG1/BLK Hi-Res Wireless Speaker- Charc...            178\n",
       "9  Sanus VLF410B1 10-Inch Super Slim Full-Motion ...            162"
      ]
     },
     "execution_count": 33,
     "metadata": {},
     "output_type": "execute_result"
    }
   ],
   "source": [
    "query_01 = pd.read_sql_query(\"\"\"SELECT a.name as \"Produit\", COUNT(b.rating) AS \"Nombre d'avis\" \n",
    "                             FROM product a \n",
    "                             LEFT JOIN reviews b ON a.product_id = b.product_id \n",
    "                             GROUP BY a.name\n",
    "                             ORDER BY \"Nombre d'avis\" DESC\n",
    "                             LIMIT 10;\"\"\", engine)\n",
    "query_01.head(10)"
   ]
  },
  {
   "cell_type": "code",
   "execution_count": 10,
   "metadata": {},
   "outputs": [
    {
     "data": {
      "image/png": "[encoded data removed]",
      "text/plain": [
       "<Figure size 432x288 with 1 Axes>"
      ]
     },
     "metadata": {
      "needs_background": "light"
     },
     "output_type": "display_data"
    }
   ],
   "source": [
    "import matplotlib.pyplot as plt\n",
    "\n",
    "\n",
    "labels = ['Network HDD 4TB', 'Samsung Smart LED TV 65 4K', 'Samsung Smart QLED 65 4K', 'Sony XBR-X850E Smart LED TV', 'LG Electronics OLED65C7P 65 4K']\n",
    "men_means = [59, 53, 52, 45, 45]\n",
    "men_std = [2, 3, 4, 1, 2]\n",
    "width = 0.35       # the width of the bars: can also be len(x) sequence\n",
    "\n",
    "fig, ax = plt.subplots()\n",
    "\n",
    "ax.bar(labels, men_means, width, yerr=men_std, label='Men')\n",
    "\n",
    "ax.set_ylabel('Scores')\n",
    "ax.set_title('Scores by group and gender')\n",
    "ax.legend()\n",
    "\n",
    "plt.show()"
   ]
  },
  {
   "cell_type": "code",
   "execution_count": 38,
   "metadata": {},
   "outputs": [
    {
     "data": {
      "text/plain": [
       "[(0.0, 1800.0),\n",
       " Text(0.5, 0, \"Nombre d'avis\"),\n",
       " Text(0, 0.5, 'Produits'),\n",
       " Text(0.5, 1.0, '10 produits les plus notés')]"
      ]
     },
     "execution_count": 38,
     "metadata": {},
     "output_type": "execute_result"
    },
    {
     "data": {
      "image/png": "[encoded data removed]",
      "text/plain": [
       "<Figure size 576x288 with 1 Axes>"
      ]
     },
     "metadata": {},
     "output_type": "display_data"
    }
   ],
   "source": [
    "import numpy as np\n",
    "import matplotlib.pyplot as plt\n",
    "\n",
    "\n",
    "data = {'Logitech 915-000224 Harmony Ultimate One': 1604,\n",
    "        'Microsoft Surface Pro 4 Type Cover': 495,\n",
    "        'Sony SRSXB30/BLK XB30 Portable Wireless Speaker': 477,\n",
    "        'Everest Elite 700 Around-Ear Wireless Headphones': 357,\n",
    "        'Slingbox M2': 342,\n",
    "        'SAMSUNG 40'' Class FHD (1080P) Smart LED TV': 340,\n",
    "        'Alpine - 6-1/2\" 2-Way Coaxial Car Speakers': 260,\n",
    "        'PNY Anarchy 16GB Kit (2x8GB) DDR4 2400MHz': 191,\n",
    "        'Sony SRSHG1/BLK Hi-Res Wireless Speaker': 178,\n",
    "        'Sanus VLF410B1 10-Inch Super Slim Full-Motion': 162}\n",
    "\n",
    "group_data = list(data.values())\n",
    "group_names = list(data.keys())\n",
    "group_mean = np.mean(group_data)\n",
    "\n",
    "plt.style.use('fivethirtyeight')\n",
    "\n",
    "fig, ax = plt.subplots(figsize=(8, 4))\n",
    "ax.barh(group_names, group_data)\n",
    "labels = ax.get_xticklabels()\n",
    "plt.setp(labels, rotation=45, horizontalalignment='right')\n",
    "ax.set(xlim=[0, 1800], xlabel=\"Nombre d'avis\", ylabel='Produits',\n",
    "       title='10 produits les plus notés')"
   ]
  },
  {
   "cell_type": "markdown",
   "metadata": {},
   "source": [
    "---"
   ]
  },
  {
   "cell_type": "markdown",
   "metadata": {},
   "source": [
    "### _02 - Produits en promotion ou non_"
   ]
  },
  {
   "cell_type": "code",
   "execution_count": 19,
   "metadata": {},
   "outputs": [
    {
     "data": {
      "text/html": [
       "<div>\n",
       "<style scoped>\n",
       "    .dataframe tbody tr th:only-of-type {\n",
       "        vertical-align: middle;\n",
       "    }\n",
       "\n",
       "    .dataframe tbody tr th {\n",
       "        vertical-align: top;\n",
       "    }\n",
       "\n",
       "    .dataframe thead th {\n",
       "        text-align: right;\n",
       "    }\n",
       "</style>\n",
       "<table border=\"1\" class=\"dataframe\">\n",
       "  <thead>\n",
       "    <tr style=\"text-align: right;\">\n",
       "      <th></th>\n",
       "      <th>Produits</th>\n",
       "      <th>En promotion</th>\n",
       "    </tr>\n",
       "  </thead>\n",
       "  <tbody>\n",
       "    <tr>\n",
       "      <th>0</th>\n",
       "      <td>False</td>\n",
       "      <td>5508</td>\n",
       "    </tr>\n",
       "    <tr>\n",
       "      <th>1</th>\n",
       "      <td>True</td>\n",
       "      <td>1741</td>\n",
       "    </tr>\n",
       "    <tr>\n",
       "      <th>2</th>\n",
       "      <td>None</td>\n",
       "      <td>50</td>\n",
       "    </tr>\n",
       "  </tbody>\n",
       "</table>\n",
       "</div>"
      ],
      "text/plain": [
       "  Produits  En promotion\n",
       "0    False          5508\n",
       "1     True          1741\n",
       "2     None            50"
      ]
     },
     "execution_count": 19,
     "metadata": {},
     "output_type": "execute_result"
    }
   ],
   "source": [
    "query_02 = pd.read_sql_query(\"\"\"SELECT a.issale AS \"Produits\", COUNT(a.product_id) AS \"En promotion\"\n",
    "                                FROM prices a\n",
    "                                GROUP BY a.issale \n",
    "                                ORDER BY \"En promotion\" DESC\n",
    "                                LIMIT 10\"\"\", engine)\n",
    "query_02.head()"
   ]
  },
  {
   "cell_type": "code",
   "execution_count": 29,
   "metadata": {},
   "outputs": [
    {
     "data": {
      "image/png": "[encoded data removed]",
      "text/plain": [
       "<Figure size 1440x432 with 1 Axes>"
      ]
     },
     "metadata": {},
     "output_type": "display_data"
    }
   ],
   "source": [
    "import numpy as np\n",
    "import matplotlib.pyplot as plt\n",
    "\n",
    "fig, ax = plt.subplots(figsize=(20, 6), subplot_kw=dict(aspect=\"equal\"))\n",
    "\n",
    "contenu = [\"1741 Soldés\",\n",
    "          \"5508 Non\",\n",
    "          \"50 Inconnu\"]\n",
    "\n",
    "data = [float(x.split()[0]) for x in contenu]\n",
    "legende = [x.split()[-1] for x in contenu]\n",
    "\n",
    "\n",
    "def func(pct, allvals):\n",
    "    absolute = int(pct/100.*np.sum(allvals))\n",
    "    return \"{:.1f}%\\n({:d})\".format(pct, absolute)\n",
    "\n",
    "\n",
    "wedges, texts, autotexts = ax.pie(data, autopct=lambda pct: func(pct, data),\n",
    "                                  textprops=dict(color=\"w\"))\n",
    "\n",
    "ax.legend(wedges, legende,\n",
    "          title=\"Produits\",\n",
    "          loc=\"center left\",\n",
    "          bbox_to_anchor=(1, 0, 0.5, 1))\n",
    "\n",
    "plt.setp(autotexts, size=12, weight=\"bold\")\n",
    "\n",
    "ax.set_title(\"Part des produits soldés\")\n",
    "\n",
    "plt.show()"
   ]
  },
  {
   "cell_type": "markdown",
   "metadata": {},
   "source": [
    "---"
   ]
  },
  {
   "cell_type": "markdown",
   "metadata": {},
   "source": [
    "### _03 - 10 articles les mieux notés avec plus de 30 notes_"
   ]
  },
  {
   "cell_type": "code",
   "execution_count": 40,
   "metadata": {},
   "outputs": [
    {
     "data": {
      "text/html": [
       "<div>\n",
       "<style scoped>\n",
       "    .dataframe tbody tr th:only-of-type {\n",
       "        vertical-align: middle;\n",
       "    }\n",
       "\n",
       "    .dataframe tbody tr th {\n",
       "        vertical-align: top;\n",
       "    }\n",
       "\n",
       "    .dataframe thead th {\n",
       "        text-align: right;\n",
       "    }\n",
       "</style>\n",
       "<table border=\"1\" class=\"dataframe\">\n",
       "  <thead>\n",
       "    <tr style=\"text-align: right;\">\n",
       "      <th></th>\n",
       "      <th>name</th>\n",
       "      <th>avg</th>\n",
       "    </tr>\n",
       "  </thead>\n",
       "  <tbody>\n",
       "    <tr>\n",
       "      <th>0</th>\n",
       "      <td>Logitech G403 Wireless Gaming Mouse with High ...</td>\n",
       "      <td>4.852273</td>\n",
       "    </tr>\n",
       "    <tr>\n",
       "      <th>1</th>\n",
       "      <td>AW6500 All-Weather Outdoor Speaker (White, Sin...</td>\n",
       "      <td>4.851852</td>\n",
       "    </tr>\n",
       "    <tr>\n",
       "      <th>2</th>\n",
       "      <td>Sony Mini Digital Video Cassettes - DVC - 1 Hour</td>\n",
       "      <td>4.830000</td>\n",
       "    </tr>\n",
       "    <tr>\n",
       "      <th>3</th>\n",
       "      <td>Corsair CMSA8GX3M2A1066C7 Apple 8 GB Dual Chan...</td>\n",
       "      <td>4.798246</td>\n",
       "    </tr>\n",
       "    <tr>\n",
       "      <th>4</th>\n",
       "      <td>2TB Red 5400 rpm SATA III 3.5 Internal NAS HDD</td>\n",
       "      <td>4.796296</td>\n",
       "    </tr>\n",
       "    <tr>\n",
       "      <th>5</th>\n",
       "      <td>Bowers &amp; Wilkins P7 Wired Over Ear Headphones</td>\n",
       "      <td>4.766355</td>\n",
       "    </tr>\n",
       "    <tr>\n",
       "      <th>6</th>\n",
       "      <td>JBL - 6\" x 8\" 2-Way Coaxial Car Speakers with ...</td>\n",
       "      <td>4.762887</td>\n",
       "    </tr>\n",
       "    <tr>\n",
       "      <th>7</th>\n",
       "      <td>Midland Weather Alert Radio, 1.0 CT</td>\n",
       "      <td>4.659091</td>\n",
       "    </tr>\n",
       "    <tr>\n",
       "      <th>8</th>\n",
       "      <td>Sony SRSXB30/BLK XB30 Portable Wireless Speake...</td>\n",
       "      <td>4.637317</td>\n",
       "    </tr>\n",
       "    <tr>\n",
       "      <th>9</th>\n",
       "      <td>Flipside 300 Backpack (Black)</td>\n",
       "      <td>4.625954</td>\n",
       "    </tr>\n",
       "  </tbody>\n",
       "</table>\n",
       "</div>"
      ],
      "text/plain": [
       "                                                name       avg\n",
       "0  Logitech G403 Wireless Gaming Mouse with High ...  4.852273\n",
       "1  AW6500 All-Weather Outdoor Speaker (White, Sin...  4.851852\n",
       "2   Sony Mini Digital Video Cassettes - DVC - 1 Hour  4.830000\n",
       "3  Corsair CMSA8GX3M2A1066C7 Apple 8 GB Dual Chan...  4.798246\n",
       "4     2TB Red 5400 rpm SATA III 3.5 Internal NAS HDD  4.796296\n",
       "5      Bowers & Wilkins P7 Wired Over Ear Headphones  4.766355\n",
       "6  JBL - 6\" x 8\" 2-Way Coaxial Car Speakers with ...  4.762887\n",
       "7                Midland Weather Alert Radio, 1.0 CT  4.659091\n",
       "8  Sony SRSXB30/BLK XB30 Portable Wireless Speake...  4.637317\n",
       "9                      Flipside 300 Backpack (Black)  4.625954"
      ]
     },
     "execution_count": 40,
     "metadata": {},
     "output_type": "execute_result"
    }
   ],
   "source": [
    "query_03 = pd.read_sql_query(\"\"\"\n",
    "    SELECT a.name, AVG(b.rating)FROM product a \n",
    "    LEFT JOIN reviews b on a.product_id=b.product_id \n",
    "    GROUP BY a.name\n",
    "    HAVING COUNT(b.rating) > 30\n",
    "    ORDER BY avg(rating) DESC\n",
    "    LIMIT 10;\n",
    "    \"\"\", engine)\n",
    "query_03.head(10)"
   ]
  },
  {
   "cell_type": "code",
   "execution_count": null,
   "metadata": {},
   "outputs": [],
   "source": []
  },
  {
   "cell_type": "markdown",
   "metadata": {},
   "source": [
    "---"
   ]
  },
  {
   "cell_type": "markdown",
   "metadata": {},
   "source": [
    "### _04 - Marques les plus représentées_"
   ]
  },
  {
   "cell_type": "code",
   "execution_count": 43,
   "metadata": {},
   "outputs": [
    {
     "data": {
      "text/html": [
       "<div>\n",
       "<style scoped>\n",
       "    .dataframe tbody tr th:only-of-type {\n",
       "        vertical-align: middle;\n",
       "    }\n",
       "\n",
       "    .dataframe tbody tr th {\n",
       "        vertical-align: top;\n",
       "    }\n",
       "\n",
       "    .dataframe thead th {\n",
       "        text-align: right;\n",
       "    }\n",
       "</style>\n",
       "<table border=\"1\" class=\"dataframe\">\n",
       "  <thead>\n",
       "    <tr style=\"text-align: right;\">\n",
       "      <th></th>\n",
       "      <th>brand</th>\n",
       "      <th>Nombre de produits</th>\n",
       "    </tr>\n",
       "  </thead>\n",
       "  <tbody>\n",
       "    <tr>\n",
       "      <th>0</th>\n",
       "      <td>Inconnu</td>\n",
       "      <td>483</td>\n",
       "    </tr>\n",
       "    <tr>\n",
       "      <th>1</th>\n",
       "      <td>Sony</td>\n",
       "      <td>22</td>\n",
       "    </tr>\n",
       "    <tr>\n",
       "      <th>2</th>\n",
       "      <td>Yamaha</td>\n",
       "      <td>16</td>\n",
       "    </tr>\n",
       "    <tr>\n",
       "      <th>3</th>\n",
       "      <td>Pioneer</td>\n",
       "      <td>8</td>\n",
       "    </tr>\n",
       "    <tr>\n",
       "      <th>4</th>\n",
       "      <td>Samsung</td>\n",
       "      <td>8</td>\n",
       "    </tr>\n",
       "    <tr>\n",
       "      <th>5</th>\n",
       "      <td>YAMAHA</td>\n",
       "      <td>7</td>\n",
       "    </tr>\n",
       "    <tr>\n",
       "      <th>6</th>\n",
       "      <td>Apple</td>\n",
       "      <td>7</td>\n",
       "    </tr>\n",
       "    <tr>\n",
       "      <th>7</th>\n",
       "      <td>Elitescreens</td>\n",
       "      <td>6</td>\n",
       "    </tr>\n",
       "    <tr>\n",
       "      <th>8</th>\n",
       "      <td>Alpine</td>\n",
       "      <td>6</td>\n",
       "    </tr>\n",
       "    <tr>\n",
       "      <th>9</th>\n",
       "      <td>Denaq</td>\n",
       "      <td>6</td>\n",
       "    </tr>\n",
       "  </tbody>\n",
       "</table>\n",
       "</div>"
      ],
      "text/plain": [
       "          brand  Nombre de produits\n",
       "0       Inconnu                 483\n",
       "1          Sony                  22\n",
       "2        Yamaha                  16\n",
       "3       Pioneer                   8\n",
       "4       Samsung                   8\n",
       "5        YAMAHA                   7\n",
       "6         Apple                   7\n",
       "7  Elitescreens                   6\n",
       "8        Alpine                   6\n",
       "9         Denaq                   6"
      ]
     },
     "execution_count": 43,
     "metadata": {},
     "output_type": "execute_result"
    }
   ],
   "source": [
    "query_04 = pd.read_sql_query(\"\"\"\n",
    "    SELECT a.brand, COUNT(b.product_id) as \"Nombre de produits\"\n",
    "    FROM manufacturer a\n",
    "    LEFT JOIN product b on a.product_id=b.product_id \n",
    "    GROUP BY a.brand\n",
    "    ORDER BY \"Nombre de produits\" DESC;\n",
    "    \"\"\", engine)\n",
    "\n",
    "query_04.head(10)"
   ]
  },
  {
   "cell_type": "code",
   "execution_count": null,
   "metadata": {},
   "outputs": [],
   "source": []
  },
  {
   "cell_type": "markdown",
   "metadata": {},
   "source": [
    "---"
   ]
  },
  {
   "cell_type": "markdown",
   "metadata": {},
   "source": [
    "### _05 - Couleurs les plus présentes_"
   ]
  },
  {
   "cell_type": "code",
   "execution_count": 47,
   "metadata": {},
   "outputs": [
    {
     "data": {
      "text/html": [
       "<div>\n",
       "<style scoped>\n",
       "    .dataframe tbody tr th:only-of-type {\n",
       "        vertical-align: middle;\n",
       "    }\n",
       "\n",
       "    .dataframe tbody tr th {\n",
       "        vertical-align: top;\n",
       "    }\n",
       "\n",
       "    .dataframe thead th {\n",
       "        text-align: right;\n",
       "    }\n",
       "</style>\n",
       "<table border=\"1\" class=\"dataframe\">\n",
       "  <thead>\n",
       "    <tr style=\"text-align: right;\">\n",
       "      <th></th>\n",
       "      <th>Couleur</th>\n",
       "      <th>Nombre de produits</th>\n",
       "    </tr>\n",
       "  </thead>\n",
       "  <tbody>\n",
       "    <tr>\n",
       "      <th>0</th>\n",
       "      <td>Inconnue</td>\n",
       "      <td>812</td>\n",
       "    </tr>\n",
       "    <tr>\n",
       "      <th>1</th>\n",
       "      <td>Black</td>\n",
       "      <td>7</td>\n",
       "    </tr>\n",
       "    <tr>\n",
       "      <th>2</th>\n",
       "      <td>Multicolor</td>\n",
       "      <td>3</td>\n",
       "    </tr>\n",
       "    <tr>\n",
       "      <th>3</th>\n",
       "      <td>Black,White</td>\n",
       "      <td>2</td>\n",
       "    </tr>\n",
       "    <tr>\n",
       "      <th>4</th>\n",
       "      <td>White</td>\n",
       "      <td>2</td>\n",
       "    </tr>\n",
       "    <tr>\n",
       "      <th>5</th>\n",
       "      <td>Gray,Color</td>\n",
       "      <td>1</td>\n",
       "    </tr>\n",
       "    <tr>\n",
       "      <th>6</th>\n",
       "      <td>Navy,Black,Gray,Blue</td>\n",
       "      <td>1</td>\n",
       "    </tr>\n",
       "    <tr>\n",
       "      <th>7</th>\n",
       "      <td>Multicolor,Black,Grey</td>\n",
       "      <td>1</td>\n",
       "    </tr>\n",
       "    <tr>\n",
       "      <th>8</th>\n",
       "      <td>Blue</td>\n",
       "      <td>1</td>\n",
       "    </tr>\n",
       "    <tr>\n",
       "      <th>9</th>\n",
       "      <td>Blue,Graphite,Blue steel,Black,Merlot,Blizzard</td>\n",
       "      <td>1</td>\n",
       "    </tr>\n",
       "    <tr>\n",
       "      <th>10</th>\n",
       "      <td>Cream</td>\n",
       "      <td>1</td>\n",
       "    </tr>\n",
       "    <tr>\n",
       "      <th>11</th>\n",
       "      <td>Siriusxm Sxezr1h1 Xm,Siriusxm Sxezr1v1 Xm</td>\n",
       "      <td>1</td>\n",
       "    </tr>\n",
       "    <tr>\n",
       "      <th>12</th>\n",
       "      <td>BlackGrey</td>\n",
       "      <td>1</td>\n",
       "    </tr>\n",
       "    <tr>\n",
       "      <th>13</th>\n",
       "      <td>Black Ash</td>\n",
       "      <td>1</td>\n",
       "    </tr>\n",
       "    <tr>\n",
       "      <th>14</th>\n",
       "      <td>Black,Gray,Red,Blue</td>\n",
       "      <td>1</td>\n",
       "    </tr>\n",
       "    <tr>\n",
       "      <th>15</th>\n",
       "      <td>Red,Pink,Yellow,Blue,Bordeaux Pink,Cinnabar Re...</td>\n",
       "      <td>1</td>\n",
       "    </tr>\n",
       "    <tr>\n",
       "      <th>16</th>\n",
       "      <td>Black,Silver,BlackRed,SilverBlack</td>\n",
       "      <td>1</td>\n",
       "    </tr>\n",
       "    <tr>\n",
       "      <th>17</th>\n",
       "      <td>Grey</td>\n",
       "      <td>1</td>\n",
       "    </tr>\n",
       "  </tbody>\n",
       "</table>\n",
       "</div>"
      ],
      "text/plain": [
       "                                              Couleur  Nombre de produits\n",
       "0                                            Inconnue                 812\n",
       "1                                               Black                   7\n",
       "2                                          Multicolor                   3\n",
       "3                                         Black,White                   2\n",
       "4                                               White                   2\n",
       "5                                          Gray,Color                   1\n",
       "6                                Navy,Black,Gray,Blue                   1\n",
       "7                               Multicolor,Black,Grey                   1\n",
       "8                                                Blue                   1\n",
       "9      Blue,Graphite,Blue steel,Black,Merlot,Blizzard                   1\n",
       "10                                              Cream                   1\n",
       "11          Siriusxm Sxezr1h1 Xm,Siriusxm Sxezr1v1 Xm                   1\n",
       "12                                          BlackGrey                   1\n",
       "13                                          Black Ash                   1\n",
       "14                                Black,Gray,Red,Blue                   1\n",
       "15  Red,Pink,Yellow,Blue,Bordeaux Pink,Cinnabar Re...                   1\n",
       "16                  Black,Silver,BlackRed,SilverBlack                   1\n",
       "17                                               Grey                   1"
      ]
     },
     "execution_count": 47,
     "metadata": {},
     "output_type": "execute_result"
    }
   ],
   "source": [
    "query_05 = pd.read_sql_query(\"\"\"\n",
    "    SELECT a.colors as \"Couleur\", COUNT(a.colors) as \"Nombre de produits\"\n",
    "    FROM product a\n",
    "    GROUP BY a.colors\n",
    "    ORDER BY \"Nombre de produits\" DESC\n",
    "\"\"\", engine)\n",
    "\n",
    "query_05.head(20)"
   ]
  },
  {
   "cell_type": "code",
   "execution_count": null,
   "metadata": {},
   "outputs": [],
   "source": []
  },
  {
   "cell_type": "markdown",
   "metadata": {},
   "source": [
    "---"
   ]
  },
  {
   "cell_type": "markdown",
   "metadata": {},
   "source": [
    "### _06 - Pourcentage de produits disponibles_"
   ]
  },
  {
   "cell_type": "code",
   "execution_count": 49,
   "metadata": {},
   "outputs": [
    {
     "data": {
      "text/html": [
       "<div>\n",
       "<style scoped>\n",
       "    .dataframe tbody tr th:only-of-type {\n",
       "        vertical-align: middle;\n",
       "    }\n",
       "\n",
       "    .dataframe tbody tr th {\n",
       "        vertical-align: top;\n",
       "    }\n",
       "\n",
       "    .dataframe thead th {\n",
       "        text-align: right;\n",
       "    }\n",
       "</style>\n",
       "<table border=\"1\" class=\"dataframe\">\n",
       "  <thead>\n",
       "    <tr style=\"text-align: right;\">\n",
       "      <th></th>\n",
       "      <th>Disponibilité</th>\n",
       "      <th>Nombre de produits</th>\n",
       "    </tr>\n",
       "  </thead>\n",
       "  <tbody>\n",
       "    <tr>\n",
       "      <th>0</th>\n",
       "      <td>In Stock</td>\n",
       "      <td>3172</td>\n",
       "    </tr>\n",
       "    <tr>\n",
       "      <th>1</th>\n",
       "      <td>Yes</td>\n",
       "      <td>2136</td>\n",
       "    </tr>\n",
       "    <tr>\n",
       "      <th>2</th>\n",
       "      <td>yes</td>\n",
       "      <td>893</td>\n",
       "    </tr>\n",
       "    <tr>\n",
       "      <th>3</th>\n",
       "      <td>TRUE</td>\n",
       "      <td>663</td>\n",
       "    </tr>\n",
       "    <tr>\n",
       "      <th>4</th>\n",
       "      <td>Out Of Stock</td>\n",
       "      <td>115</td>\n",
       "    </tr>\n",
       "    <tr>\n",
       "      <th>5</th>\n",
       "      <td>Special Order</td>\n",
       "      <td>109</td>\n",
       "    </tr>\n",
       "    <tr>\n",
       "      <th>6</th>\n",
       "      <td>More on the Way</td>\n",
       "      <td>91</td>\n",
       "    </tr>\n",
       "    <tr>\n",
       "      <th>7</th>\n",
       "      <td>None</td>\n",
       "      <td>50</td>\n",
       "    </tr>\n",
       "    <tr>\n",
       "      <th>8</th>\n",
       "      <td>undefined</td>\n",
       "      <td>40</td>\n",
       "    </tr>\n",
       "    <tr>\n",
       "      <th>9</th>\n",
       "      <td>sold</td>\n",
       "      <td>22</td>\n",
       "    </tr>\n",
       "    <tr>\n",
       "      <th>10</th>\n",
       "      <td>No</td>\n",
       "      <td>4</td>\n",
       "    </tr>\n",
       "    <tr>\n",
       "      <th>11</th>\n",
       "      <td>FALSE</td>\n",
       "      <td>1</td>\n",
       "    </tr>\n",
       "    <tr>\n",
       "      <th>12</th>\n",
       "      <td>Retired</td>\n",
       "      <td>1</td>\n",
       "    </tr>\n",
       "    <tr>\n",
       "      <th>13</th>\n",
       "      <td>7 available</td>\n",
       "      <td>1</td>\n",
       "    </tr>\n",
       "    <tr>\n",
       "      <th>14</th>\n",
       "      <td>32 available</td>\n",
       "      <td>1</td>\n",
       "    </tr>\n",
       "  </tbody>\n",
       "</table>\n",
       "</div>"
      ],
      "text/plain": [
       "      Disponibilité  Nombre de produits\n",
       "0          In Stock                3172\n",
       "1               Yes                2136\n",
       "2               yes                 893\n",
       "3              TRUE                 663\n",
       "4      Out Of Stock                 115\n",
       "5     Special Order                 109\n",
       "6   More on the Way                  91\n",
       "7              None                  50\n",
       "8         undefined                  40\n",
       "9              sold                  22\n",
       "10               No                   4\n",
       "11            FALSE                   1\n",
       "12          Retired                   1\n",
       "13      7 available                   1\n",
       "14     32 available                   1"
      ]
     },
     "execution_count": 49,
     "metadata": {},
     "output_type": "execute_result"
    }
   ],
   "source": [
    "query_06 = pd.read_sql_query(\"\"\"\n",
    "    SELECT a.availability as \"Disponibilité\", COUNT(a.product_id) as \"Nombre de produits\"\n",
    "    FROM prices a\n",
    "    GROUP BY a.availability \n",
    "    ORDER BY \"Nombre de produits\" DESC\n",
    "\"\"\", engine)\n",
    "\n",
    "query_06.head(15)"
   ]
  },
  {
   "cell_type": "code",
   "execution_count": null,
   "metadata": {},
   "outputs": [],
   "source": []
  },
  {
   "cell_type": "markdown",
   "metadata": {},
   "source": [
    "---"
   ]
  },
  {
   "cell_type": "markdown",
   "metadata": {},
   "source": [
    "### _07 - Différentes currency_"
   ]
  },
  {
   "cell_type": "code",
   "execution_count": 50,
   "metadata": {},
   "outputs": [
    {
     "data": {
      "text/html": [
       "<div>\n",
       "<style scoped>\n",
       "    .dataframe tbody tr th:only-of-type {\n",
       "        vertical-align: middle;\n",
       "    }\n",
       "\n",
       "    .dataframe tbody tr th {\n",
       "        vertical-align: top;\n",
       "    }\n",
       "\n",
       "    .dataframe thead th {\n",
       "        text-align: right;\n",
       "    }\n",
       "</style>\n",
       "<table border=\"1\" class=\"dataframe\">\n",
       "  <thead>\n",
       "    <tr style=\"text-align: right;\">\n",
       "      <th></th>\n",
       "      <th>Devise</th>\n",
       "      <th>Nombre</th>\n",
       "    </tr>\n",
       "  </thead>\n",
       "  <tbody>\n",
       "    <tr>\n",
       "      <th>0</th>\n",
       "      <td>USD</td>\n",
       "      <td>7248</td>\n",
       "    </tr>\n",
       "    <tr>\n",
       "      <th>1</th>\n",
       "      <td>None</td>\n",
       "      <td>50</td>\n",
       "    </tr>\n",
       "    <tr>\n",
       "      <th>2</th>\n",
       "      <td>CAD</td>\n",
       "      <td>1</td>\n",
       "    </tr>\n",
       "  </tbody>\n",
       "</table>\n",
       "</div>"
      ],
      "text/plain": [
       "  Devise  Nombre\n",
       "0    USD    7248\n",
       "1   None      50\n",
       "2    CAD       1"
      ]
     },
     "execution_count": 50,
     "metadata": {},
     "output_type": "execute_result"
    }
   ],
   "source": [
    "query_07 = pd.read_sql_query(\"\"\"\n",
    "    SELECT a.currency as \"Devise\", COUNT(a.product_id) as \"Nombre\"\n",
    "    FROM prices a\n",
    "    GROUP BY a.currency \n",
    "    ORDER BY \"Nombre\" DESC\n",
    "\"\"\", engine)\n",
    "\n",
    "query_07.head()"
   ]
  },
  {
   "cell_type": "code",
   "execution_count": null,
   "metadata": {},
   "outputs": [],
   "source": []
  },
  {
   "cell_type": "markdown",
   "metadata": {},
   "source": [
    "---"
   ]
  },
  {
   "cell_type": "markdown",
   "metadata": {},
   "source": [
    "### _08 - Différentes conditions_"
   ]
  },
  {
   "cell_type": "code",
   "execution_count": 59,
   "metadata": {},
   "outputs": [
    {
     "data": {
      "text/html": [
       "<div>\n",
       "<style scoped>\n",
       "    .dataframe tbody tr th:only-of-type {\n",
       "        vertical-align: middle;\n",
       "    }\n",
       "\n",
       "    .dataframe tbody tr th {\n",
       "        vertical-align: top;\n",
       "    }\n",
       "\n",
       "    .dataframe thead th {\n",
       "        text-align: right;\n",
       "    }\n",
       "</style>\n",
       "<table border=\"1\" class=\"dataframe\">\n",
       "  <thead>\n",
       "    <tr style=\"text-align: right;\">\n",
       "      <th></th>\n",
       "      <th>Etat</th>\n",
       "      <th>Nombre</th>\n",
       "    </tr>\n",
       "  </thead>\n",
       "  <tbody>\n",
       "    <tr>\n",
       "      <th>0</th>\n",
       "      <td>New</td>\n",
       "      <td>6226</td>\n",
       "    </tr>\n",
       "    <tr>\n",
       "      <th>1</th>\n",
       "      <td>new</td>\n",
       "      <td>699</td>\n",
       "    </tr>\n",
       "    <tr>\n",
       "      <th>2</th>\n",
       "      <td>Used</td>\n",
       "      <td>143</td>\n",
       "    </tr>\n",
       "    <tr>\n",
       "      <th>3</th>\n",
       "      <td>New other (see details)</td>\n",
       "      <td>92</td>\n",
       "    </tr>\n",
       "    <tr>\n",
       "      <th>4</th>\n",
       "      <td>Manufacturer refurbished</td>\n",
       "      <td>55</td>\n",
       "    </tr>\n",
       "    <tr>\n",
       "      <th>5</th>\n",
       "      <td>None</td>\n",
       "      <td>50</td>\n",
       "    </tr>\n",
       "    <tr>\n",
       "      <th>6</th>\n",
       "      <td>Seller refurbished</td>\n",
       "      <td>15</td>\n",
       "    </tr>\n",
       "    <tr>\n",
       "      <th>7</th>\n",
       "      <td>Refurbished</td>\n",
       "      <td>11</td>\n",
       "    </tr>\n",
       "    <tr>\n",
       "      <th>8</th>\n",
       "      <td>pre-owned</td>\n",
       "      <td>3</td>\n",
       "    </tr>\n",
       "    <tr>\n",
       "      <th>9</th>\n",
       "      <td>refurbished</td>\n",
       "      <td>2</td>\n",
       "    </tr>\n",
       "    <tr>\n",
       "      <th>10</th>\n",
       "      <td>New Kicker BT2 41IK5BT2V2 Wireless Bluetooth U...</td>\n",
       "      <td>2</td>\n",
       "    </tr>\n",
       "    <tr>\n",
       "      <th>11</th>\n",
       "      <td>5/16\" Ring Terminal, 3 ft. 8 GA Black Ground C...</td>\n",
       "      <td>1</td>\n",
       "    </tr>\n",
       "  </tbody>\n",
       "</table>\n",
       "</div>"
      ],
      "text/plain": [
       "                                                 Etat  Nombre\n",
       "0                                                 New    6226\n",
       "1                                                 new     699\n",
       "2                                                Used     143\n",
       "3                             New other (see details)      92\n",
       "4                            Manufacturer refurbished      55\n",
       "5                                                None      50\n",
       "6                                  Seller refurbished      15\n",
       "7                                         Refurbished      11\n",
       "8                                           pre-owned       3\n",
       "9                                         refurbished       2\n",
       "10  New Kicker BT2 41IK5BT2V2 Wireless Bluetooth U...       2\n",
       "11  5/16\" Ring Terminal, 3 ft. 8 GA Black Ground C...       1"
      ]
     },
     "execution_count": 59,
     "metadata": {},
     "output_type": "execute_result"
    }
   ],
   "source": [
    "query_08 = pd.read_sql_query(\"\"\"\n",
    "    SELECT a.condition as \"Etat\", COUNT(a.product_id) as \"Nombre\"\n",
    "    FROM prices a\n",
    "    GROUP BY a.\"condition\" \n",
    "    ORDER BY \"Nombre\" DESC\n",
    "\"\"\", engine)\n",
    "\n",
    "query_08.head(15)"
   ]
  },
  {
   "cell_type": "code",
   "execution_count": null,
   "metadata": {},
   "outputs": [],
   "source": []
  },
  {
   "cell_type": "markdown",
   "metadata": {},
   "source": [
    "---"
   ]
  },
  {
   "cell_type": "markdown",
   "metadata": {},
   "source": [
    "### _09 - Articles les plus chers en moyenne_"
   ]
  },
  {
   "cell_type": "code",
   "execution_count": 57,
   "metadata": {},
   "outputs": [
    {
     "data": {
      "text/html": [
       "<div>\n",
       "<style scoped>\n",
       "    .dataframe tbody tr th:only-of-type {\n",
       "        vertical-align: middle;\n",
       "    }\n",
       "\n",
       "    .dataframe tbody tr th {\n",
       "        vertical-align: top;\n",
       "    }\n",
       "\n",
       "    .dataframe thead th {\n",
       "        text-align: right;\n",
       "    }\n",
       "</style>\n",
       "<table border=\"1\" class=\"dataframe\">\n",
       "  <thead>\n",
       "    <tr style=\"text-align: right;\">\n",
       "      <th></th>\n",
       "      <th>name</th>\n",
       "      <th>avg</th>\n",
       "    </tr>\n",
       "  </thead>\n",
       "  <tbody>\n",
       "    <tr>\n",
       "      <th>0</th>\n",
       "      <td>Razer - Blade Pro 17.3 4K Ultra HD Touch-Scree...</td>\n",
       "      <td>3975.990112</td>\n",
       "    </tr>\n",
       "    <tr>\n",
       "      <th>1</th>\n",
       "      <td>Refurbished Samsung Curved 65 4K (2160P) Smart...</td>\n",
       "      <td>3937.802434</td>\n",
       "    </tr>\n",
       "    <tr>\n",
       "      <th>2</th>\n",
       "      <td>Sony - 55 Class - OLED - A1E Series - 2160p - ...</td>\n",
       "      <td>3528.483896</td>\n",
       "    </tr>\n",
       "    <tr>\n",
       "      <th>3</th>\n",
       "      <td>LG Electronics OLED65C7P 65-Inch 4K Ultra HD S...</td>\n",
       "      <td>3246.363585</td>\n",
       "    </tr>\n",
       "    <tr>\n",
       "      <th>4</th>\n",
       "      <td>LG - 65 Class - OLED - B7A Series - 2160p - Sm...</td>\n",
       "      <td>3123.529222</td>\n",
       "    </tr>\n",
       "    <tr>\n",
       "      <th>5</th>\n",
       "      <td>XBR-X850E-Series 75-Class HDR UHD Smart LED TV</td>\n",
       "      <td>2939.151790</td>\n",
       "    </tr>\n",
       "    <tr>\n",
       "      <th>6</th>\n",
       "      <td>SunBriteTV - Signature Series - 43 Class - LED...</td>\n",
       "      <td>2799.707136</td>\n",
       "    </tr>\n",
       "    <tr>\n",
       "      <th>7</th>\n",
       "      <td>Samsung - 65 Class - LED - Q7F Series - 2160p ...</td>\n",
       "      <td>2699.323324</td>\n",
       "    </tr>\n",
       "    <tr>\n",
       "      <th>8</th>\n",
       "      <td>MU9000-Series 65-Class HDR UHD Smart LED TV</td>\n",
       "      <td>2604.316180</td>\n",
       "    </tr>\n",
       "    <tr>\n",
       "      <th>9</th>\n",
       "      <td>Samsung - 55 Class - LED - Curved - Q7C Series...</td>\n",
       "      <td>2494.725623</td>\n",
       "    </tr>\n",
       "  </tbody>\n",
       "</table>\n",
       "</div>"
      ],
      "text/plain": [
       "                                                name          avg\n",
       "0  Razer - Blade Pro 17.3 4K Ultra HD Touch-Scree...  3975.990112\n",
       "1  Refurbished Samsung Curved 65 4K (2160P) Smart...  3937.802434\n",
       "2  Sony - 55 Class - OLED - A1E Series - 2160p - ...  3528.483896\n",
       "3  LG Electronics OLED65C7P 65-Inch 4K Ultra HD S...  3246.363585\n",
       "4  LG - 65 Class - OLED - B7A Series - 2160p - Sm...  3123.529222\n",
       "5     XBR-X850E-Series 75-Class HDR UHD Smart LED TV  2939.151790\n",
       "6  SunBriteTV - Signature Series - 43 Class - LED...  2799.707136\n",
       "7  Samsung - 65 Class - LED - Q7F Series - 2160p ...  2699.323324\n",
       "8        MU9000-Series 65-Class HDR UHD Smart LED TV  2604.316180\n",
       "9  Samsung - 55 Class - LED - Curved - Q7C Series...  2494.725623"
      ]
     },
     "execution_count": 57,
     "metadata": {},
     "output_type": "execute_result"
    }
   ],
   "source": [
    "query_09 = pd.read_sql_query(\"\"\"\n",
    "    SELECT a.name, AVG(b.amountmax)\n",
    "    FROM product a \n",
    "    LEFT JOIN prices b on a.product_id=b.product_id \n",
    "    GROUP BY a.name\n",
    "    HAVING COUNT(b.amountmax) > 5\n",
    "    ORDER BY AVG(b.amountmax) DESC\n",
    "    LIMIT 10;\n",
    "\"\"\", engine)\n",
    "\n",
    "query_09.head(10)"
   ]
  },
  {
   "cell_type": "code",
   "execution_count": null,
   "metadata": {},
   "outputs": [],
   "source": []
  },
  {
   "cell_type": "markdown",
   "metadata": {},
   "source": [
    "---"
   ]
  },
  {
   "cell_type": "markdown",
   "metadata": {},
   "source": [
    "### _10 - Articles les moins chers en moyenne_"
   ]
  },
  {
   "cell_type": "code",
   "execution_count": 58,
   "metadata": {},
   "outputs": [
    {
     "data": {
      "text/html": [
       "<div>\n",
       "<style scoped>\n",
       "    .dataframe tbody tr th:only-of-type {\n",
       "        vertical-align: middle;\n",
       "    }\n",
       "\n",
       "    .dataframe tbody tr th {\n",
       "        vertical-align: top;\n",
       "    }\n",
       "\n",
       "    .dataframe thead th {\n",
       "        text-align: right;\n",
       "    }\n",
       "</style>\n",
       "<table border=\"1\" class=\"dataframe\">\n",
       "  <thead>\n",
       "    <tr style=\"text-align: right;\">\n",
       "      <th></th>\n",
       "      <th>name</th>\n",
       "      <th>avg</th>\n",
       "    </tr>\n",
       "  </thead>\n",
       "  <tbody>\n",
       "    <tr>\n",
       "      <th>0</th>\n",
       "      <td>Portable Bluetooth Wireless Speaker, Red</td>\n",
       "      <td>13.953333</td>\n",
       "    </tr>\n",
       "    <tr>\n",
       "      <th>1</th>\n",
       "      <td>Samsung - Adaptive Fast Charging Wall Charger ...</td>\n",
       "      <td>15.451200</td>\n",
       "    </tr>\n",
       "    <tr>\n",
       "      <th>2</th>\n",
       "      <td>Lowepro Dashpoint AVC 1, Blue</td>\n",
       "      <td>15.826667</td>\n",
       "    </tr>\n",
       "    <tr>\n",
       "      <th>3</th>\n",
       "      <td>House of Marley Smile Jamaica In-Ear Earbuds</td>\n",
       "      <td>19.689166</td>\n",
       "    </tr>\n",
       "    <tr>\n",
       "      <th>4</th>\n",
       "      <td>PP999 Phono Preamplifier</td>\n",
       "      <td>19.862857</td>\n",
       "    </tr>\n",
       "    <tr>\n",
       "      <th>5</th>\n",
       "      <td>DENAQ - AC Power Adapter and Charger for Selec...</td>\n",
       "      <td>20.341667</td>\n",
       "    </tr>\n",
       "    <tr>\n",
       "      <th>6</th>\n",
       "      <td>Boytone - Portable Bluetooth Speaker - Blue</td>\n",
       "      <td>23.823333</td>\n",
       "    </tr>\n",
       "    <tr>\n",
       "      <th>7</th>\n",
       "      <td>Roll Bar Mount</td>\n",
       "      <td>24.217143</td>\n",
       "    </tr>\n",
       "    <tr>\n",
       "      <th>8</th>\n",
       "      <td>DENAQ - AC Power Adapter and Charger for Selec...</td>\n",
       "      <td>26.306667</td>\n",
       "    </tr>\n",
       "    <tr>\n",
       "      <th>9</th>\n",
       "      <td>TL-SG108 8-Port 10/100/1000 Mbps Unmanaged Des...</td>\n",
       "      <td>26.347273</td>\n",
       "    </tr>\n",
       "  </tbody>\n",
       "</table>\n",
       "</div>"
      ],
      "text/plain": [
       "                                                name        avg\n",
       "0           Portable Bluetooth Wireless Speaker, Red  13.953333\n",
       "1  Samsung - Adaptive Fast Charging Wall Charger ...  15.451200\n",
       "2                      Lowepro Dashpoint AVC 1, Blue  15.826667\n",
       "3       House of Marley Smile Jamaica In-Ear Earbuds  19.689166\n",
       "4                           PP999 Phono Preamplifier  19.862857\n",
       "5  DENAQ - AC Power Adapter and Charger for Selec...  20.341667\n",
       "6        Boytone - Portable Bluetooth Speaker - Blue  23.823333\n",
       "7                                     Roll Bar Mount  24.217143\n",
       "8  DENAQ - AC Power Adapter and Charger for Selec...  26.306667\n",
       "9  TL-SG108 8-Port 10/100/1000 Mbps Unmanaged Des...  26.347273"
      ]
     },
     "execution_count": 58,
     "metadata": {},
     "output_type": "execute_result"
    }
   ],
   "source": [
    "query_10 = pd.read_sql_query(\"\"\"\n",
    "    SELECT a.name, AVG(b.amountmin)\n",
    "    FROM product a \n",
    "    LEFT JOIN prices b on a.product_id=b.product_id \n",
    "    GROUP BY a.name\n",
    "    HAVING COUNT(b.amountmin) > 5\n",
    "    ORDER BY AVG(b.amountmin) ASC\n",
    "    LIMIT 10;\n",
    "\"\"\", engine)\n",
    "\n",
    "query_10.head(10)"
   ]
  },
  {
   "cell_type": "code",
   "execution_count": null,
   "metadata": {},
   "outputs": [],
   "source": []
  },
  {
   "cell_type": "markdown",
   "metadata": {},
   "source": [
    "---"
   ]
  },
  {
   "cell_type": "markdown",
   "metadata": {},
   "source": [
    " ### _11 - Merchant les plus représentés_"
   ]
  },
  {
   "cell_type": "code",
   "execution_count": 61,
   "metadata": {},
   "outputs": [
    {
     "data": {
      "text/html": [
       "<div>\n",
       "<style scoped>\n",
       "    .dataframe tbody tr th:only-of-type {\n",
       "        vertical-align: middle;\n",
       "    }\n",
       "\n",
       "    .dataframe tbody tr th {\n",
       "        vertical-align: top;\n",
       "    }\n",
       "\n",
       "    .dataframe thead th {\n",
       "        text-align: right;\n",
       "    }\n",
       "</style>\n",
       "<table border=\"1\" class=\"dataframe\">\n",
       "  <thead>\n",
       "    <tr style=\"text-align: right;\">\n",
       "      <th></th>\n",
       "      <th>Site marchand</th>\n",
       "      <th>Nombre</th>\n",
       "    </tr>\n",
       "  </thead>\n",
       "  <tbody>\n",
       "    <tr>\n",
       "      <th>0</th>\n",
       "      <td>Bestbuy.com</td>\n",
       "      <td>2806</td>\n",
       "    </tr>\n",
       "    <tr>\n",
       "      <th>1</th>\n",
       "      <td>bhphotovideo.com</td>\n",
       "      <td>1509</td>\n",
       "    </tr>\n",
       "    <tr>\n",
       "      <th>2</th>\n",
       "      <td>Walmart.com</td>\n",
       "      <td>664</td>\n",
       "    </tr>\n",
       "    <tr>\n",
       "      <th>3</th>\n",
       "      <td>Beach Camera</td>\n",
       "      <td>201</td>\n",
       "    </tr>\n",
       "    <tr>\n",
       "      <th>4</th>\n",
       "      <td>AMI Ventures Inc</td>\n",
       "      <td>63</td>\n",
       "    </tr>\n",
       "    <tr>\n",
       "      <th>5</th>\n",
       "      <td>buydig</td>\n",
       "      <td>53</td>\n",
       "    </tr>\n",
       "    <tr>\n",
       "      <th>6</th>\n",
       "      <td>Focus Camera</td>\n",
       "      <td>48</td>\n",
       "    </tr>\n",
       "    <tr>\n",
       "      <th>7</th>\n",
       "      <td>gear4less</td>\n",
       "      <td>43</td>\n",
       "    </tr>\n",
       "    <tr>\n",
       "      <th>8</th>\n",
       "      <td>echo-and-optics</td>\n",
       "      <td>40</td>\n",
       "    </tr>\n",
       "    <tr>\n",
       "      <th>9</th>\n",
       "      <td>Beach Audio Inc</td>\n",
       "      <td>39</td>\n",
       "    </tr>\n",
       "  </tbody>\n",
       "</table>\n",
       "</div>"
      ],
      "text/plain": [
       "      Site marchand  Nombre\n",
       "0       Bestbuy.com    2806\n",
       "1  bhphotovideo.com    1509\n",
       "2       Walmart.com     664\n",
       "3      Beach Camera     201\n",
       "4  AMI Ventures Inc      63\n",
       "5            buydig      53\n",
       "6      Focus Camera      48\n",
       "7         gear4less      43\n",
       "8   echo-and-optics      40\n",
       "9   Beach Audio Inc      39"
      ]
     },
     "execution_count": 61,
     "metadata": {},
     "output_type": "execute_result"
    }
   ],
   "source": [
    "query_11 = pd.read_sql_query(\"\"\"\n",
    "    SELECT a.merchant as \"Site marchand\", COUNT(a.merchant) as \"Nombre\"\n",
    "    FROM prices a\n",
    "    GROUP BY \"Site marchand\"\n",
    "    ORDER BY \"Nombre\" DESC;\n",
    "\"\"\", engine)\n",
    "\n",
    "query_11.head(10)"
   ]
  },
  {
   "cell_type": "code",
   "execution_count": null,
   "metadata": {},
   "outputs": [],
   "source": []
  },
  {
   "cell_type": "markdown",
   "metadata": {},
   "source": [
    "---"
   ]
  },
  {
   "cell_type": "markdown",
   "metadata": {},
   "source": [
    "### _12 - Nombre de commentaires \"Helpful\"_"
   ]
  },
  {
   "cell_type": "code",
   "execution_count": 62,
   "metadata": {},
   "outputs": [
    {
     "data": {
      "text/html": [
       "<div>\n",
       "<style scoped>\n",
       "    .dataframe tbody tr th:only-of-type {\n",
       "        vertical-align: middle;\n",
       "    }\n",
       "\n",
       "    .dataframe tbody tr th {\n",
       "        vertical-align: top;\n",
       "    }\n",
       "\n",
       "    .dataframe thead th {\n",
       "        text-align: right;\n",
       "    }\n",
       "</style>\n",
       "<table border=\"1\" class=\"dataframe\">\n",
       "  <thead>\n",
       "    <tr style=\"text-align: right;\">\n",
       "      <th></th>\n",
       "      <th>Recommande le produit</th>\n",
       "      <th>Nombre</th>\n",
       "    </tr>\n",
       "  </thead>\n",
       "  <tbody>\n",
       "    <tr>\n",
       "      <th>0</th>\n",
       "      <td>True</td>\n",
       "      <td>5401</td>\n",
       "    </tr>\n",
       "    <tr>\n",
       "      <th>1</th>\n",
       "      <td>None</td>\n",
       "      <td>2226</td>\n",
       "    </tr>\n",
       "    <tr>\n",
       "      <th>2</th>\n",
       "      <td>False</td>\n",
       "      <td>507</td>\n",
       "    </tr>\n",
       "  </tbody>\n",
       "</table>\n",
       "</div>"
      ],
      "text/plain": [
       "  Recommande le produit  Nombre\n",
       "0                  True    5401\n",
       "1                  None    2226\n",
       "2                 False     507"
      ]
     },
     "execution_count": 62,
     "metadata": {},
     "output_type": "execute_result"
    }
   ],
   "source": [
    "query_12 = pd.read_sql_query(\"\"\"\n",
    "    SELECT a.dorecommend as \"Recommande le produit\", COUNT(a.product_id) as \"Nombre\"\n",
    "    FROM reviews a\n",
    "    GROUP BY \"Recommande le produit\"\n",
    "    ORDER BY \"Nombre\" DESC;\n",
    "\"\"\", engine)\n",
    "\n",
    "query_12.head(10)"
   ]
  },
  {
   "cell_type": "code",
   "execution_count": null,
   "metadata": {},
   "outputs": [],
   "source": []
  },
  {
   "cell_type": "markdown",
   "metadata": {},
   "source": [
    "---"
   ]
  },
  {
   "cell_type": "markdown",
   "metadata": {},
   "source": [
    "### _13 - Username avec le plus d'avis_"
   ]
  },
  {
   "cell_type": "code",
   "execution_count": 63,
   "metadata": {},
   "outputs": [
    {
     "data": {
      "text/html": [
       "<div>\n",
       "<style scoped>\n",
       "    .dataframe tbody tr th:only-of-type {\n",
       "        vertical-align: middle;\n",
       "    }\n",
       "\n",
       "    .dataframe tbody tr th {\n",
       "        vertical-align: top;\n",
       "    }\n",
       "\n",
       "    .dataframe thead th {\n",
       "        text-align: right;\n",
       "    }\n",
       "</style>\n",
       "<table border=\"1\" class=\"dataframe\">\n",
       "  <thead>\n",
       "    <tr style=\"text-align: right;\">\n",
       "      <th></th>\n",
       "      <th>Username</th>\n",
       "      <th>Nombre</th>\n",
       "    </tr>\n",
       "  </thead>\n",
       "  <tbody>\n",
       "    <tr>\n",
       "      <th>0</th>\n",
       "      <td>ByAmazon Customer</td>\n",
       "      <td>63</td>\n",
       "    </tr>\n",
       "    <tr>\n",
       "      <th>1</th>\n",
       "      <td>Mike</td>\n",
       "      <td>21</td>\n",
       "    </tr>\n",
       "    <tr>\n",
       "      <th>2</th>\n",
       "      <td>John</td>\n",
       "      <td>16</td>\n",
       "    </tr>\n",
       "    <tr>\n",
       "      <th>3</th>\n",
       "      <td>Chris</td>\n",
       "      <td>14</td>\n",
       "    </tr>\n",
       "    <tr>\n",
       "      <th>4</th>\n",
       "      <td>James</td>\n",
       "      <td>13</td>\n",
       "    </tr>\n",
       "    <tr>\n",
       "      <th>5</th>\n",
       "      <td>Anonymous</td>\n",
       "      <td>13</td>\n",
       "    </tr>\n",
       "    <tr>\n",
       "      <th>6</th>\n",
       "      <td>Jeff</td>\n",
       "      <td>12</td>\n",
       "    </tr>\n",
       "    <tr>\n",
       "      <th>7</th>\n",
       "      <td>Dave</td>\n",
       "      <td>11</td>\n",
       "    </tr>\n",
       "    <tr>\n",
       "      <th>8</th>\n",
       "      <td>Steve</td>\n",
       "      <td>11</td>\n",
       "    </tr>\n",
       "    <tr>\n",
       "      <th>9</th>\n",
       "      <td>Bill</td>\n",
       "      <td>11</td>\n",
       "    </tr>\n",
       "  </tbody>\n",
       "</table>\n",
       "</div>"
      ],
      "text/plain": [
       "            Username  Nombre\n",
       "0  ByAmazon Customer      63\n",
       "1               Mike      21\n",
       "2               John      16\n",
       "3              Chris      14\n",
       "4              James      13\n",
       "5          Anonymous      13\n",
       "6               Jeff      12\n",
       "7               Dave      11\n",
       "8              Steve      11\n",
       "9               Bill      11"
      ]
     },
     "execution_count": 63,
     "metadata": {},
     "output_type": "execute_result"
    }
   ],
   "source": [
    "query_13 = pd.read_sql_query(\"\"\"\n",
    "    SELECT a.username as \"Username\", COUNT(a.username) as \"Nombre\"\n",
    "    FROM reviews a\n",
    "    GROUP BY \"Username\"\n",
    "    ORDER BY \"Nombre\" desc\n",
    "    LIMIT 10;\n",
    "\"\"\", engine)\n",
    "\n",
    "query_13.head(10)"
   ]
  },
  {
   "cell_type": "code",
   "execution_count": null,
   "metadata": {},
   "outputs": [],
   "source": []
  },
  {
   "cell_type": "markdown",
   "metadata": {},
   "source": [
    "---"
   ]
  },
  {
   "cell_type": "markdown",
   "metadata": {},
   "source": [
    "### _14 - Manufacturer les plus présents_"
   ]
  },
  {
   "cell_type": "code",
   "execution_count": null,
   "metadata": {},
   "outputs": [],
   "source": [
    "query_14 = pd.read_sql_query(\"\"\"\n",
    "    SELECT a.manufacturer as \"Réference\", COUNT(a.manufacturer) as \"Nombre\"\n",
    "    FROM manufacturer a\n",
    "    GROUP BY \"Réference\"\n",
    "    ORDER BY \"Nombre\" desc\n",
    "    LIMIT 10;\n",
    "\"\"\", engine)\n",
    "\n",
    "query_12.head(10)"
   ]
  },
  {
   "cell_type": "code",
   "execution_count": null,
   "metadata": {},
   "outputs": [],
   "source": []
  },
  {
   "cell_type": "markdown",
   "metadata": {},
   "source": [
    "---"
   ]
  },
  {
   "cell_type": "markdown",
   "metadata": {},
   "source": [
    "### _15 - Colonnes avec le plus de valeurs \"Null\"_"
   ]
  },
  {
   "cell_type": "code",
   "execution_count": 21,
   "metadata": {},
   "outputs": [
    {
     "data": {
      "text/html": [
       "<div>\n",
       "<style scoped>\n",
       "    .dataframe tbody tr th:only-of-type {\n",
       "        vertical-align: middle;\n",
       "    }\n",
       "\n",
       "    .dataframe tbody tr th {\n",
       "        vertical-align: top;\n",
       "    }\n",
       "\n",
       "    .dataframe thead th {\n",
       "        text-align: right;\n",
       "    }\n",
       "</style>\n",
       "<table border=\"1\" class=\"dataframe\">\n",
       "  <thead>\n",
       "    <tr style=\"text-align: right;\">\n",
       "      <th></th>\n",
       "      <th>title</th>\n",
       "      <th>character</th>\n",
       "    </tr>\n",
       "  </thead>\n",
       "  <tbody>\n",
       "    <tr>\n",
       "      <th>0</th>\n",
       "      <td>Scoop</td>\n",
       "      <td>Sid Waterman</td>\n",
       "    </tr>\n",
       "    <tr>\n",
       "      <th>1</th>\n",
       "      <td>Manhattan</td>\n",
       "      <td>Isaac Davis</td>\n",
       "    </tr>\n",
       "    <tr>\n",
       "      <th>2</th>\n",
       "      <td>Annie Hall</td>\n",
       "      <td>Alvy Singer</td>\n",
       "    </tr>\n",
       "    <tr>\n",
       "      <th>3</th>\n",
       "      <td>Maris et femmes</td>\n",
       "      <td>Prof. Gabriel 'Gabe' Roth</td>\n",
       "    </tr>\n",
       "  </tbody>\n",
       "</table>\n",
       "</div>"
      ],
      "text/plain": [
       "             title                  character\n",
       "0            Scoop               Sid Waterman\n",
       "1        Manhattan                Isaac Davis\n",
       "2       Annie Hall                Alvy Singer\n",
       "3  Maris et femmes  Prof. Gabriel 'Gabe' Roth"
      ]
     },
     "execution_count": 21,
     "metadata": {},
     "output_type": "execute_result"
    }
   ],
   "source": [
    "query_15 = pd.read_sql_query(\"\"\"\n",
    "    SELECT ...\n",
    "    ;\n",
    "\"\"\", engine)\n",
    "\n",
    "query_15.head(10)"
   ]
  },
  {
   "cell_type": "markdown",
   "metadata": {},
   "source": [
    "---"
   ]
  }
 ],
 "metadata": {
  "kernelspec": {
   "display_name": "Python 3",
   "language": "python",
   "name": "python3"
  },
  "language_info": {
   "codemirror_mode": {
    "name": "ipython",
    "version": 3
   },
   "file_extension": ".py",
   "mimetype": "text/x-python",
   "name": "python",
   "nbconvert_exporter": "python",
   "pygments_lexer": "ipython3",
   "version": "3.8.6"
  }
 },
 "nbformat": 4,
 "nbformat_minor": 4
}
