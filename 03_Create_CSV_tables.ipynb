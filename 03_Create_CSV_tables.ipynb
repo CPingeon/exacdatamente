{
 "cells": [
  {
   "cell_type": "markdown",
   "metadata": {},
   "source": [
    "# (03) Création des différents CSV nécessaires à l'importation des données"
   ]
  },
  {
   "cell_type": "markdown",
   "metadata": {},
   "source": [
    "##### *Import des libraries nécessaires pour le nettoyage et l'exportation des différents CSV nécessaires à la création de la BDD*"
   ]
  },
  {
   "cell_type": "code",
   "execution_count": 1,
   "metadata": {},
   "outputs": [],
   "source": [
    "import pandas as pd"
   ]
  },
  {
   "cell_type": "markdown",
   "metadata": {},
   "source": [
    "---"
   ]
  },
  {
   "cell_type": "markdown",
   "metadata": {},
   "source": [
    "## 1 - Création du CSV pour la table \"Product\""
   ]
  },
  {
   "cell_type": "markdown",
   "metadata": {},
   "source": [
    "#### *Document numéro 1 : Datafinity Electronics Product Data*"
   ]
  },
  {
   "cell_type": "code",
   "execution_count": 2,
   "metadata": {},
   "outputs": [],
   "source": [
    "df1 = pd.read_csv(\"./data/DatafinitiElectronicsProductData.csv\")"
   ]
  },
  {
   "cell_type": "markdown",
   "metadata": {},
   "source": [
    "---"
   ]
  },
  {
   "cell_type": "markdown",
   "metadata": {},
   "source": [
    "#### Nombre de lignes et colonnes"
   ]
  },
  {
   "cell_type": "code",
   "execution_count": 3,
   "metadata": {},
   "outputs": [
    {
     "data": {
      "text/plain": [
       "(7299, 27)"
      ]
     },
     "execution_count": 3,
     "metadata": {},
     "output_type": "execute_result"
    }
   ],
   "source": [
    "df1.shape"
   ]
  },
  {
   "cell_type": "markdown",
   "metadata": {},
   "source": [
    "---"
   ]
  },
  {
   "cell_type": "markdown",
   "metadata": {},
   "source": [
    "#### Affichage du nom des colonnes"
   ]
  },
  {
   "cell_type": "code",
   "execution_count": 4,
   "metadata": {},
   "outputs": [
    {
     "data": {
      "text/plain": [
       "Index(['id', 'asins', 'brand', 'categories', 'colors', 'dateAdded',\n",
       "       'dateUpdated', 'dimension', 'ean', 'imageURLs', 'keys', 'manufacturer',\n",
       "       'manufacturerNumber', 'name', 'primaryCategories', 'reviews.date',\n",
       "       'reviews.dateSeen', 'reviews.doRecommend', 'reviews.numHelpful',\n",
       "       'reviews.rating', 'reviews.sourceURLs', 'reviews.text', 'reviews.title',\n",
       "       'reviews.username', 'sourceURLs', 'upc', 'weight'],\n",
       "      dtype='object')"
      ]
     },
     "execution_count": 4,
     "metadata": {},
     "output_type": "execute_result"
    }
   ],
   "source": [
    "df1.columns"
   ]
  },
  {
   "cell_type": "markdown",
   "metadata": {},
   "source": [
    "---"
   ]
  },
  {
   "cell_type": "markdown",
   "metadata": {},
   "source": [
    "#### Suppression des colonnes non utlisées"
   ]
  },
  {
   "cell_type": "code",
   "execution_count": 5,
   "metadata": {},
   "outputs": [],
   "source": [
    "df1 = df1.drop([\"asins\", \"brand\", \"dimension\", \"ean\", \"keys\", \"manufacturer\", \"manufacturerNumber\", \n",
    "                  \"reviews.date\", \"reviews.dateSeen\", \"reviews.doRecommend\", \"reviews.numHelpful\", \"reviews.rating\", \n",
    "                  \"reviews.sourceURLs\", \"reviews.text\", \"reviews.title\", \"reviews.username\", \"upc\", \"weight\"], axis=1)"
   ]
  },
  {
   "cell_type": "code",
   "execution_count": 6,
   "metadata": {},
   "outputs": [
    {
     "data": {
      "text/plain": [
       "(7299, 9)"
      ]
     },
     "execution_count": 6,
     "metadata": {},
     "output_type": "execute_result"
    }
   ],
   "source": [
    "df1.shape"
   ]
  },
  {
   "cell_type": "markdown",
   "metadata": {},
   "source": [
    "---"
   ]
  },
  {
   "cell_type": "markdown",
   "metadata": {},
   "source": [
    "#### Modification de la position des colonnes"
   ]
  },
  {
   "cell_type": "code",
   "execution_count": 7,
   "metadata": {},
   "outputs": [],
   "source": [
    "df1 = df1[['id', 'name', 'colors', 'primaryCategories', 'categories', 'dateAdded', 'dateUpdated', 'sourceURLs', 'imageURLs']]"
   ]
  },
  {
   "cell_type": "code",
   "execution_count": 8,
   "metadata": {},
   "outputs": [
    {
     "data": {
      "text/plain": [
       "Index(['id', 'name', 'colors', 'primaryCategories', 'categories', 'dateAdded',\n",
       "       'dateUpdated', 'sourceURLs', 'imageURLs'],\n",
       "      dtype='object')"
      ]
     },
     "execution_count": 8,
     "metadata": {},
     "output_type": "execute_result"
    }
   ],
   "source": [
    "df1.columns"
   ]
  },
  {
   "cell_type": "markdown",
   "metadata": {},
   "source": [
    "---"
   ]
  },
  {
   "cell_type": "markdown",
   "metadata": {},
   "source": [
    "#### *Document numéro 2 : Datafiniti Electronics Products Pricing Data*"
   ]
  },
  {
   "cell_type": "code",
   "execution_count": 9,
   "metadata": {},
   "outputs": [],
   "source": [
    "df2 = pd.read_csv(\"./data/DatafinitiElectronicsProductsPricingData.csv\")"
   ]
  },
  {
   "cell_type": "markdown",
   "metadata": {},
   "source": [
    "---"
   ]
  },
  {
   "cell_type": "markdown",
   "metadata": {},
   "source": [
    "#### Nombre de lignes et colonnes"
   ]
  },
  {
   "cell_type": "code",
   "execution_count": 10,
   "metadata": {},
   "outputs": [
    {
     "data": {
      "text/plain": [
       "(7249, 31)"
      ]
     },
     "execution_count": 10,
     "metadata": {},
     "output_type": "execute_result"
    }
   ],
   "source": [
    "df2.shape"
   ]
  },
  {
   "cell_type": "markdown",
   "metadata": {},
   "source": [
    "---"
   ]
  },
  {
   "cell_type": "markdown",
   "metadata": {},
   "source": [
    "#### Affichage du nom des colonnes"
   ]
  },
  {
   "cell_type": "code",
   "execution_count": 11,
   "metadata": {},
   "outputs": [
    {
     "data": {
      "text/plain": [
       "Index(['id', 'prices.amountMax', 'prices.amountMin', 'prices.availability',\n",
       "       'prices.condition', 'prices.currency', 'prices.dateSeen',\n",
       "       'prices.isSale', 'prices.merchant', 'prices.shipping',\n",
       "       'prices.sourceURLs', 'asins', 'brand', 'categories', 'dateAdded',\n",
       "       'dateUpdated', 'ean', 'imageURLs', 'keys', 'manufacturer',\n",
       "       'manufacturerNumber', 'name', 'primaryCategories', 'sourceURLs', 'upc',\n",
       "       'weight', 'Unnamed: 26', 'Unnamed: 27', 'Unnamed: 28', 'Unnamed: 29',\n",
       "       'Unnamed: 30'],\n",
       "      dtype='object')"
      ]
     },
     "execution_count": 11,
     "metadata": {},
     "output_type": "execute_result"
    }
   ],
   "source": [
    "df2.columns"
   ]
  },
  {
   "cell_type": "markdown",
   "metadata": {},
   "source": [
    "---"
   ]
  },
  {
   "cell_type": "markdown",
   "metadata": {},
   "source": [
    "#### Suppression des colonnes non utlisées"
   ]
  },
  {
   "cell_type": "code",
   "execution_count": 12,
   "metadata": {},
   "outputs": [],
   "source": [
    "df2 = df2.drop([\"prices.amountMax\", \"prices.amountMin\", \"prices.availability\", \"prices.condition\", \n",
    "                   \"prices.currency\", \"prices.dateSeen\", \"prices.isSale\", \"prices.merchant\", \"prices.shipping\", \n",
    "                   \"prices.sourceURLs\", \"asins\", \"brand\", \"ean\", \"keys\", \"manufacturer\", \"manufacturerNumber\", \n",
    "                   \"upc\", \"weight\", \"Unnamed: 26\", \"Unnamed: 27\", \"Unnamed: 28\", \"Unnamed: 29\", \"Unnamed: 30\"], axis=1)"
   ]
  },
  {
   "cell_type": "code",
   "execution_count": 13,
   "metadata": {},
   "outputs": [
    {
     "data": {
      "text/plain": [
       "(7249, 8)"
      ]
     },
     "execution_count": 13,
     "metadata": {},
     "output_type": "execute_result"
    }
   ],
   "source": [
    "df2.shape"
   ]
  },
  {
   "cell_type": "markdown",
   "metadata": {},
   "source": [
    "---"
   ]
  },
  {
   "cell_type": "markdown",
   "metadata": {},
   "source": [
    "#### Modification de la position des colonnes"
   ]
  },
  {
   "cell_type": "code",
   "execution_count": 14,
   "metadata": {},
   "outputs": [],
   "source": [
    "df2 = df2[['id', 'name', 'primaryCategories', 'categories', 'dateAdded', 'dateUpdated', 'sourceURLs', 'imageURLs']]"
   ]
  },
  {
   "cell_type": "code",
   "execution_count": 15,
   "metadata": {},
   "outputs": [
    {
     "data": {
      "text/plain": [
       "Index(['id', 'name', 'primaryCategories', 'categories', 'dateAdded',\n",
       "       'dateUpdated', 'sourceURLs', 'imageURLs'],\n",
       "      dtype='object')"
      ]
     },
     "execution_count": 15,
     "metadata": {},
     "output_type": "execute_result"
    }
   ],
   "source": [
    "df2.columns"
   ]
  },
  {
   "cell_type": "markdown",
   "metadata": {},
   "source": [
    "---"
   ]
  },
  {
   "cell_type": "markdown",
   "metadata": {},
   "source": [
    "#### Concatenation des deux dataframes"
   ]
  },
  {
   "cell_type": "code",
   "execution_count": 16,
   "metadata": {},
   "outputs": [],
   "source": [
    "product = df1.append(df2, ignore_index=True, sort=False)"
   ]
  },
  {
   "cell_type": "code",
   "execution_count": 17,
   "metadata": {},
   "outputs": [
    {
     "name": "stdout",
     "output_type": "stream",
     "text": [
      "<class 'pandas.core.frame.DataFrame'>\n",
      "RangeIndex: 14548 entries, 0 to 14547\n",
      "Data columns (total 9 columns):\n",
      " #   Column             Non-Null Count  Dtype \n",
      "---  ------             --------------  ----- \n",
      " 0   id                 14548 non-null  object\n",
      " 1   name               14548 non-null  object\n",
      " 2   colors             5280 non-null   object\n",
      " 3   primaryCategories  14548 non-null  object\n",
      " 4   categories         14548 non-null  object\n",
      " 5   dateAdded          14548 non-null  object\n",
      " 6   dateUpdated        14548 non-null  object\n",
      " 7   sourceURLs         14548 non-null  object\n",
      " 8   imageURLs          14548 non-null  object\n",
      "dtypes: object(9)\n",
      "memory usage: 1023.0+ KB\n"
     ]
    }
   ],
   "source": [
    "product.info()"
   ]
  },
  {
   "cell_type": "code",
   "execution_count": 18,
   "metadata": {},
   "outputs": [
    {
     "data": {
      "text/plain": [
       "id                      0\n",
       "name                    0\n",
       "colors               9268\n",
       "primaryCategories       0\n",
       "categories              0\n",
       "dateAdded               0\n",
       "dateUpdated             0\n",
       "sourceURLs              0\n",
       "imageURLs               0\n",
       "dtype: int64"
      ]
     },
     "execution_count": 18,
     "metadata": {},
     "output_type": "execute_result"
    }
   ],
   "source": [
    "product.isnull().sum()"
   ]
  },
  {
   "cell_type": "markdown",
   "metadata": {},
   "source": [
    "---"
   ]
  },
  {
   "cell_type": "markdown",
   "metadata": {},
   "source": [
    "#### Suppression des doublons"
   ]
  },
  {
   "cell_type": "code",
   "execution_count": 19,
   "metadata": {},
   "outputs": [],
   "source": [
    "product = product.drop_duplicates('id')"
   ]
  },
  {
   "cell_type": "code",
   "execution_count": 20,
   "metadata": {},
   "outputs": [
    {
     "name": "stdout",
     "output_type": "stream",
     "text": [
      "<class 'pandas.core.frame.DataFrame'>\n",
      "Int64Index: 839 entries, 0 to 14537\n",
      "Data columns (total 9 columns):\n",
      " #   Column             Non-Null Count  Dtype \n",
      "---  ------             --------------  ----- \n",
      " 0   id                 839 non-null    object\n",
      " 1   name               839 non-null    object\n",
      " 2   colors             27 non-null     object\n",
      " 3   primaryCategories  839 non-null    object\n",
      " 4   categories         839 non-null    object\n",
      " 5   dateAdded          839 non-null    object\n",
      " 6   dateUpdated        839 non-null    object\n",
      " 7   sourceURLs         839 non-null    object\n",
      " 8   imageURLs          839 non-null    object\n",
      "dtypes: object(9)\n",
      "memory usage: 65.5+ KB\n"
     ]
    }
   ],
   "source": [
    "product.info()"
   ]
  },
  {
   "cell_type": "markdown",
   "metadata": {},
   "source": [
    "---"
   ]
  },
  {
   "cell_type": "markdown",
   "metadata": {},
   "source": [
    "#### Remplacement des valeurs NULL dans \"colors\" par \"Inconnue\""
   ]
  },
  {
   "cell_type": "code",
   "execution_count": 21,
   "metadata": {},
   "outputs": [],
   "source": [
    "product[\"colors\"].fillna(\"Inconnue\", inplace = True)"
   ]
  },
  {
   "cell_type": "code",
   "execution_count": 22,
   "metadata": {},
   "outputs": [
    {
     "name": "stdout",
     "output_type": "stream",
     "text": [
      "<class 'pandas.core.frame.DataFrame'>\n",
      "Int64Index: 839 entries, 0 to 14537\n",
      "Data columns (total 9 columns):\n",
      " #   Column             Non-Null Count  Dtype \n",
      "---  ------             --------------  ----- \n",
      " 0   id                 839 non-null    object\n",
      " 1   name               839 non-null    object\n",
      " 2   colors             839 non-null    object\n",
      " 3   primaryCategories  839 non-null    object\n",
      " 4   categories         839 non-null    object\n",
      " 5   dateAdded          839 non-null    object\n",
      " 6   dateUpdated        839 non-null    object\n",
      " 7   sourceURLs         839 non-null    object\n",
      " 8   imageURLs          839 non-null    object\n",
      "dtypes: object(9)\n",
      "memory usage: 65.5+ KB\n"
     ]
    }
   ],
   "source": [
    "product.info()"
   ]
  },
  {
   "cell_type": "markdown",
   "metadata": {},
   "source": [
    "---"
   ]
  },
  {
   "cell_type": "markdown",
   "metadata": {},
   "source": [
    "#### Modification de la position des colonnes, des noms, puis export en CSV"
   ]
  },
  {
   "cell_type": "code",
   "execution_count": 23,
   "metadata": {},
   "outputs": [],
   "source": [
    "product = product[[\"id\", \"name\", \"colors\", \"primaryCategories\", \"categories\", \"dateAdded\", \"dateUpdated\", \"sourceURLs\", \"imageURLs\"]]"
   ]
  },
  {
   "cell_type": "code",
   "execution_count": 24,
   "metadata": {},
   "outputs": [],
   "source": [
    "product.rename(columns={\"id\": \"product_id\"}, inplace=True)"
   ]
  },
  {
   "cell_type": "code",
   "execution_count": 25,
   "metadata": {},
   "outputs": [],
   "source": [
    "product.to_csv('./CSV_Tables/product.csv', sep=',', encoding='utf-8', index=False)"
   ]
  },
  {
   "cell_type": "markdown",
   "metadata": {},
   "source": [
    "---"
   ]
  },
  {
   "cell_type": "markdown",
   "metadata": {},
   "source": [
    "## 2 - Création du CSV pour la table \"Manufacturer\""
   ]
  },
  {
   "cell_type": "markdown",
   "metadata": {},
   "source": [
    "#### *Document numéro 1 : Datafinity Electronics Product Data*"
   ]
  },
  {
   "cell_type": "code",
   "execution_count": 26,
   "metadata": {},
   "outputs": [],
   "source": [
    "df3 = pd.read_csv(\"./data/DatafinitiElectronicsProductData.csv\")"
   ]
  },
  {
   "cell_type": "markdown",
   "metadata": {},
   "source": [
    "---"
   ]
  },
  {
   "cell_type": "markdown",
   "metadata": {},
   "source": [
    "#### Affichage du nom des colonnes"
   ]
  },
  {
   "cell_type": "code",
   "execution_count": 27,
   "metadata": {},
   "outputs": [
    {
     "data": {
      "text/plain": [
       "Index(['id', 'asins', 'brand', 'categories', 'colors', 'dateAdded',\n",
       "       'dateUpdated', 'dimension', 'ean', 'imageURLs', 'keys', 'manufacturer',\n",
       "       'manufacturerNumber', 'name', 'primaryCategories', 'reviews.date',\n",
       "       'reviews.dateSeen', 'reviews.doRecommend', 'reviews.numHelpful',\n",
       "       'reviews.rating', 'reviews.sourceURLs', 'reviews.text', 'reviews.title',\n",
       "       'reviews.username', 'sourceURLs', 'upc', 'weight'],\n",
       "      dtype='object')"
      ]
     },
     "execution_count": 27,
     "metadata": {},
     "output_type": "execute_result"
    }
   ],
   "source": [
    "df3.columns"
   ]
  },
  {
   "cell_type": "markdown",
   "metadata": {},
   "source": [
    "---"
   ]
  },
  {
   "cell_type": "markdown",
   "metadata": {},
   "source": [
    "#### Suppression des colonnes non utlisées"
   ]
  },
  {
   "cell_type": "code",
   "execution_count": 28,
   "metadata": {},
   "outputs": [],
   "source": [
    "df3 = df3.drop([\"asins\", \"categories\", \"colors\", \"dateAdded\", \"dateUpdated\", \n",
    "                \"dimension\", \"ean\", \"imageURLs\", \"keys\", \"name\", \"primaryCategories\", \n",
    "                \"reviews.date\", \"reviews.dateSeen\", \"reviews.doRecommend\", \"reviews.numHelpful\", \n",
    "                \"reviews.rating\", \"reviews.sourceURLs\", \"reviews.text\", \"reviews.title\", \n",
    "                \"reviews.username\", \"sourceURLs\", \"upc\", \"weight\"], axis=1)"
   ]
  },
  {
   "cell_type": "code",
   "execution_count": 29,
   "metadata": {},
   "outputs": [
    {
     "data": {
      "text/plain": [
       "Index(['id', 'brand', 'manufacturer', 'manufacturerNumber'], dtype='object')"
      ]
     },
     "execution_count": 29,
     "metadata": {},
     "output_type": "execute_result"
    }
   ],
   "source": [
    "df3.columns"
   ]
  },
  {
   "cell_type": "markdown",
   "metadata": {},
   "source": [
    "---"
   ]
  },
  {
   "cell_type": "markdown",
   "metadata": {},
   "source": [
    "#### *Document numéro 2 : Datafiniti Electronics Products Pricing Data*"
   ]
  },
  {
   "cell_type": "code",
   "execution_count": 30,
   "metadata": {},
   "outputs": [],
   "source": [
    "df4 = pd.read_csv(\"./data/DatafinitiElectronicsProductsPricingData.csv\")"
   ]
  },
  {
   "cell_type": "markdown",
   "metadata": {},
   "source": [
    "---"
   ]
  },
  {
   "cell_type": "markdown",
   "metadata": {},
   "source": [
    "#### Affichage du nom des colonnes"
   ]
  },
  {
   "cell_type": "code",
   "execution_count": 31,
   "metadata": {},
   "outputs": [
    {
     "data": {
      "text/plain": [
       "Index(['id', 'prices.amountMax', 'prices.amountMin', 'prices.availability',\n",
       "       'prices.condition', 'prices.currency', 'prices.dateSeen',\n",
       "       'prices.isSale', 'prices.merchant', 'prices.shipping',\n",
       "       'prices.sourceURLs', 'asins', 'brand', 'categories', 'dateAdded',\n",
       "       'dateUpdated', 'ean', 'imageURLs', 'keys', 'manufacturer',\n",
       "       'manufacturerNumber', 'name', 'primaryCategories', 'sourceURLs', 'upc',\n",
       "       'weight', 'Unnamed: 26', 'Unnamed: 27', 'Unnamed: 28', 'Unnamed: 29',\n",
       "       'Unnamed: 30'],\n",
       "      dtype='object')"
      ]
     },
     "execution_count": 31,
     "metadata": {},
     "output_type": "execute_result"
    }
   ],
   "source": [
    "df4.columns"
   ]
  },
  {
   "cell_type": "markdown",
   "metadata": {},
   "source": [
    "---"
   ]
  },
  {
   "cell_type": "markdown",
   "metadata": {},
   "source": [
    "#### Suppression des colonnes non utlisées"
   ]
  },
  {
   "cell_type": "code",
   "execution_count": 32,
   "metadata": {},
   "outputs": [],
   "source": [
    "df4 = df4.drop([\"prices.amountMax\", \"prices.amountMin\", \"prices.availability\", \"prices.condition\", \n",
    "                \"prices.currency\", \"prices.dateSeen\", \"prices.isSale\", \"prices.merchant\", \"prices.shipping\", \n",
    "                \"prices.sourceURLs\", \"asins\", \"categories\", \"dateAdded\", \"dateUpdated\", \"ean\", \"imageURLs\", \"keys\", \n",
    "                \"name\", \"primaryCategories\", \"sourceURLs\", \"upc\", \"weight\", \"Unnamed: 26\", \"Unnamed: 27\", \"Unnamed: 28\", \n",
    "                \"Unnamed: 29\", \"Unnamed: 30\"], axis=1)"
   ]
  },
  {
   "cell_type": "code",
   "execution_count": 33,
   "metadata": {},
   "outputs": [
    {
     "data": {
      "text/plain": [
       "Index(['id', 'brand', 'manufacturer', 'manufacturerNumber'], dtype='object')"
      ]
     },
     "execution_count": 33,
     "metadata": {},
     "output_type": "execute_result"
    }
   ],
   "source": [
    "df4.columns"
   ]
  },
  {
   "cell_type": "markdown",
   "metadata": {},
   "source": [
    "---"
   ]
  },
  {
   "cell_type": "markdown",
   "metadata": {},
   "source": [
    "#### Concatenation des deux dataframes"
   ]
  },
  {
   "cell_type": "code",
   "execution_count": 34,
   "metadata": {},
   "outputs": [],
   "source": [
    "manufacturer = df3.append(df4, ignore_index=True, sort=False)"
   ]
  },
  {
   "cell_type": "code",
   "execution_count": 35,
   "metadata": {},
   "outputs": [
    {
     "name": "stdout",
     "output_type": "stream",
     "text": [
      "<class 'pandas.core.frame.DataFrame'>\n",
      "RangeIndex: 14548 entries, 0 to 14547\n",
      "Data columns (total 4 columns):\n",
      " #   Column              Non-Null Count  Dtype \n",
      "---  ------              --------------  ----- \n",
      " 0   id                  14548 non-null  object\n",
      " 1   brand               14548 non-null  object\n",
      " 2   manufacturer        7867 non-null   object\n",
      " 3   manufacturerNumber  14548 non-null  object\n",
      "dtypes: object(4)\n",
      "memory usage: 454.8+ KB\n"
     ]
    }
   ],
   "source": [
    "manufacturer.info()"
   ]
  },
  {
   "cell_type": "markdown",
   "metadata": {},
   "source": [
    "---"
   ]
  },
  {
   "cell_type": "markdown",
   "metadata": {},
   "source": [
    "#### Suppression des doublons"
   ]
  },
  {
   "cell_type": "code",
   "execution_count": 36,
   "metadata": {},
   "outputs": [],
   "source": [
    "manufacturer = manufacturer.drop_duplicates()"
   ]
  },
  {
   "cell_type": "code",
   "execution_count": 37,
   "metadata": {},
   "outputs": [
    {
     "name": "stdout",
     "output_type": "stream",
     "text": [
      "<class 'pandas.core.frame.DataFrame'>\n",
      "Int64Index: 849 entries, 0 to 14537\n",
      "Data columns (total 4 columns):\n",
      " #   Column              Non-Null Count  Dtype \n",
      "---  ------              --------------  ----- \n",
      " 0   id                  849 non-null    object\n",
      " 1   brand               849 non-null    object\n",
      " 2   manufacturer        366 non-null    object\n",
      " 3   manufacturerNumber  849 non-null    object\n",
      "dtypes: object(4)\n",
      "memory usage: 33.2+ KB\n"
     ]
    }
   ],
   "source": [
    "manufacturer.info()"
   ]
  },
  {
   "cell_type": "markdown",
   "metadata": {},
   "source": [
    "---"
   ]
  },
  {
   "cell_type": "markdown",
   "metadata": {},
   "source": [
    "#### Remplacement des valeurs NULL dans \"manufacturer\" par \"Inconnu\""
   ]
  },
  {
   "cell_type": "code",
   "execution_count": 38,
   "metadata": {},
   "outputs": [],
   "source": [
    "manufacturer[\"manufacturer\"].fillna(\"Inconnu\", inplace = True)"
   ]
  },
  {
   "cell_type": "code",
   "execution_count": 39,
   "metadata": {},
   "outputs": [
    {
     "name": "stdout",
     "output_type": "stream",
     "text": [
      "<class 'pandas.core.frame.DataFrame'>\n",
      "Int64Index: 849 entries, 0 to 14537\n",
      "Data columns (total 4 columns):\n",
      " #   Column              Non-Null Count  Dtype \n",
      "---  ------              --------------  ----- \n",
      " 0   id                  849 non-null    object\n",
      " 1   brand               849 non-null    object\n",
      " 2   manufacturer        849 non-null    object\n",
      " 3   manufacturerNumber  849 non-null    object\n",
      "dtypes: object(4)\n",
      "memory usage: 33.2+ KB\n"
     ]
    }
   ],
   "source": [
    "manufacturer.info()"
   ]
  },
  {
   "cell_type": "markdown",
   "metadata": {},
   "source": [
    "---"
   ]
  },
  {
   "cell_type": "markdown",
   "metadata": {},
   "source": [
    "#### Modification de la position des colonnes, des noms, puis export en CSV"
   ]
  },
  {
   "cell_type": "code",
   "execution_count": 40,
   "metadata": {},
   "outputs": [],
   "source": [
    "manufacturer = manufacturer[['manufacturerNumber', 'manufacturer', 'brand', 'id']]"
   ]
  },
  {
   "cell_type": "code",
   "execution_count": 41,
   "metadata": {},
   "outputs": [],
   "source": [
    "manufacturer.rename(columns={\"id\": \"product_id\"}, inplace=True)"
   ]
  },
  {
   "cell_type": "code",
   "execution_count": 42,
   "metadata": {},
   "outputs": [],
   "source": [
    "manufacturer.to_csv('./CSV_Tables/manufacturer.csv', sep=',', encoding='utf-8', index=False)"
   ]
  },
  {
   "cell_type": "markdown",
   "metadata": {},
   "source": [
    "---"
   ]
  },
  {
   "cell_type": "markdown",
   "metadata": {},
   "source": [
    "## 3 - Création du CSV pour la table \"Logistics\""
   ]
  },
  {
   "cell_type": "markdown",
   "metadata": {},
   "source": [
    "#### *Document numéro 1 : Datafinity Electronics Product Data*"
   ]
  },
  {
   "cell_type": "code",
   "execution_count": 43,
   "metadata": {},
   "outputs": [],
   "source": [
    "df5 = pd.read_csv(\"./data/DatafinitiElectronicsProductData.csv\")"
   ]
  },
  {
   "cell_type": "markdown",
   "metadata": {},
   "source": [
    "---"
   ]
  },
  {
   "cell_type": "markdown",
   "metadata": {},
   "source": [
    "#### Affichage du nom des colonnes"
   ]
  },
  {
   "cell_type": "code",
   "execution_count": 44,
   "metadata": {},
   "outputs": [
    {
     "data": {
      "text/plain": [
       "Index(['id', 'asins', 'brand', 'categories', 'colors', 'dateAdded',\n",
       "       'dateUpdated', 'dimension', 'ean', 'imageURLs', 'keys', 'manufacturer',\n",
       "       'manufacturerNumber', 'name', 'primaryCategories', 'reviews.date',\n",
       "       'reviews.dateSeen', 'reviews.doRecommend', 'reviews.numHelpful',\n",
       "       'reviews.rating', 'reviews.sourceURLs', 'reviews.text', 'reviews.title',\n",
       "       'reviews.username', 'sourceURLs', 'upc', 'weight'],\n",
       "      dtype='object')"
      ]
     },
     "execution_count": 44,
     "metadata": {},
     "output_type": "execute_result"
    }
   ],
   "source": [
    "df5.columns"
   ]
  },
  {
   "cell_type": "markdown",
   "metadata": {},
   "source": [
    "---"
   ]
  },
  {
   "cell_type": "markdown",
   "metadata": {},
   "source": [
    "#### Suppression des colonnes non utlisées"
   ]
  },
  {
   "cell_type": "code",
   "execution_count": 45,
   "metadata": {},
   "outputs": [],
   "source": [
    "df5 = df5.drop([\"brand\", \"categories\", \"colors\", \"dateAdded\", \"dateUpdated\", \"imageURLs\", \n",
    "                \"manufacturer\", \"manufacturerNumber\", \"name\", \"primaryCategories\", \"reviews.date\", \n",
    "                \"reviews.dateSeen\", \"reviews.doRecommend\", \"reviews.numHelpful\", \"reviews.rating\", \n",
    "                \"reviews.sourceURLs\", \"reviews.text\", \"reviews.title\", \"reviews.username\", \"sourceURLs\"], axis=1)"
   ]
  },
  {
   "cell_type": "code",
   "execution_count": 46,
   "metadata": {},
   "outputs": [
    {
     "data": {
      "text/plain": [
       "Index(['id', 'asins', 'dimension', 'ean', 'keys', 'upc', 'weight'], dtype='object')"
      ]
     },
     "execution_count": 46,
     "metadata": {},
     "output_type": "execute_result"
    }
   ],
   "source": [
    "df5.columns"
   ]
  },
  {
   "cell_type": "markdown",
   "metadata": {},
   "source": [
    "---"
   ]
  },
  {
   "cell_type": "markdown",
   "metadata": {},
   "source": [
    "#### *Document numéro 2 : Datafiniti Electronics Products Pricing Data*"
   ]
  },
  {
   "cell_type": "code",
   "execution_count": 47,
   "metadata": {},
   "outputs": [],
   "source": [
    "df6 = pd.read_csv(\"./data/DatafinitiElectronicsProductsPricingData.csv\")"
   ]
  },
  {
   "cell_type": "markdown",
   "metadata": {},
   "source": [
    "---"
   ]
  },
  {
   "cell_type": "markdown",
   "metadata": {},
   "source": [
    "#### Affichage du nom des colonnes"
   ]
  },
  {
   "cell_type": "code",
   "execution_count": 48,
   "metadata": {},
   "outputs": [
    {
     "data": {
      "text/plain": [
       "Index(['id', 'prices.amountMax', 'prices.amountMin', 'prices.availability',\n",
       "       'prices.condition', 'prices.currency', 'prices.dateSeen',\n",
       "       'prices.isSale', 'prices.merchant', 'prices.shipping',\n",
       "       'prices.sourceURLs', 'asins', 'brand', 'categories', 'dateAdded',\n",
       "       'dateUpdated', 'ean', 'imageURLs', 'keys', 'manufacturer',\n",
       "       'manufacturerNumber', 'name', 'primaryCategories', 'sourceURLs', 'upc',\n",
       "       'weight', 'Unnamed: 26', 'Unnamed: 27', 'Unnamed: 28', 'Unnamed: 29',\n",
       "       'Unnamed: 30'],\n",
       "      dtype='object')"
      ]
     },
     "execution_count": 48,
     "metadata": {},
     "output_type": "execute_result"
    }
   ],
   "source": [
    "df6.columns"
   ]
  },
  {
   "cell_type": "markdown",
   "metadata": {},
   "source": [
    "---"
   ]
  },
  {
   "cell_type": "markdown",
   "metadata": {},
   "source": [
    "#### Suppression des colonnes non utlisées"
   ]
  },
  {
   "cell_type": "code",
   "execution_count": 49,
   "metadata": {},
   "outputs": [],
   "source": [
    "df6 = df6.drop(['prices.amountMax', 'prices.amountMin', 'prices.availability','prices.condition', \n",
    "                'prices.currency', 'prices.dateSeen','prices.isSale', 'prices.merchant', 'prices.shipping',\n",
    "                'prices.sourceURLs', 'brand', 'categories', 'dateAdded','dateUpdated', 'imageURLs', 'manufacturer',\n",
    "                'manufacturerNumber', 'name', 'primaryCategories', 'sourceURLs', 'Unnamed: 26', 'Unnamed: 27', 'Unnamed: 28', \n",
    "                'Unnamed: 29', 'Unnamed: 30'], axis=1)"
   ]
  },
  {
   "cell_type": "code",
   "execution_count": 50,
   "metadata": {},
   "outputs": [
    {
     "data": {
      "text/plain": [
       "Index(['id', 'asins', 'ean', 'keys', 'upc', 'weight'], dtype='object')"
      ]
     },
     "execution_count": 50,
     "metadata": {},
     "output_type": "execute_result"
    }
   ],
   "source": [
    "df6.columns"
   ]
  },
  {
   "cell_type": "markdown",
   "metadata": {},
   "source": [
    "---"
   ]
  },
  {
   "cell_type": "markdown",
   "metadata": {},
   "source": [
    "#### Concatenation des deux dataframes"
   ]
  },
  {
   "cell_type": "code",
   "execution_count": 51,
   "metadata": {},
   "outputs": [],
   "source": [
    "logistics = df5.append(df6, ignore_index=True, sort=False)"
   ]
  },
  {
   "cell_type": "code",
   "execution_count": 52,
   "metadata": {},
   "outputs": [
    {
     "name": "stdout",
     "output_type": "stream",
     "text": [
      "<class 'pandas.core.frame.DataFrame'>\n",
      "RangeIndex: 14548 entries, 0 to 14547\n",
      "Data columns (total 7 columns):\n",
      " #   Column     Non-Null Count  Dtype \n",
      "---  ------     --------------  ----- \n",
      " 0   id         14548 non-null  object\n",
      " 1   asins      14548 non-null  object\n",
      " 2   dimension  6090 non-null   object\n",
      " 3   ean        4494 non-null   object\n",
      " 4   keys       14548 non-null  object\n",
      " 5   upc        14548 non-null  object\n",
      " 6   weight     14548 non-null  object\n",
      "dtypes: object(7)\n",
      "memory usage: 795.7+ KB\n"
     ]
    }
   ],
   "source": [
    "logistics.info()"
   ]
  },
  {
   "cell_type": "markdown",
   "metadata": {},
   "source": [
    "---"
   ]
  },
  {
   "cell_type": "markdown",
   "metadata": {},
   "source": [
    "#### Suppression des doublons"
   ]
  },
  {
   "cell_type": "code",
   "execution_count": 53,
   "metadata": {},
   "outputs": [],
   "source": [
    "logistics = logistics.drop_duplicates()"
   ]
  },
  {
   "cell_type": "code",
   "execution_count": 54,
   "metadata": {},
   "outputs": [
    {
     "name": "stdout",
     "output_type": "stream",
     "text": [
      "<class 'pandas.core.frame.DataFrame'>\n",
      "Int64Index: 885 entries, 0 to 14537\n",
      "Data columns (total 7 columns):\n",
      " #   Column     Non-Null Count  Dtype \n",
      "---  ------     --------------  ----- \n",
      " 0   id         885 non-null    object\n",
      " 1   asins      885 non-null    object\n",
      " 2   dimension  34 non-null     object\n",
      " 3   ean        169 non-null    object\n",
      " 4   keys       885 non-null    object\n",
      " 5   upc        885 non-null    object\n",
      " 6   weight     885 non-null    object\n",
      "dtypes: object(7)\n",
      "memory usage: 55.3+ KB\n"
     ]
    }
   ],
   "source": [
    "logistics.info()"
   ]
  },
  {
   "cell_type": "markdown",
   "metadata": {},
   "source": [
    "---"
   ]
  },
  {
   "cell_type": "markdown",
   "metadata": {},
   "source": [
    "#### Remplacement des valeurs NULL dans \"dimension\" par \"Inconnue\""
   ]
  },
  {
   "cell_type": "code",
   "execution_count": 55,
   "metadata": {},
   "outputs": [],
   "source": [
    "logistics[\"dimension\"].fillna(\"Inconnue\", inplace = True)"
   ]
  },
  {
   "cell_type": "code",
   "execution_count": 56,
   "metadata": {},
   "outputs": [
    {
     "name": "stdout",
     "output_type": "stream",
     "text": [
      "<class 'pandas.core.frame.DataFrame'>\n",
      "Int64Index: 885 entries, 0 to 14537\n",
      "Data columns (total 7 columns):\n",
      " #   Column     Non-Null Count  Dtype \n",
      "---  ------     --------------  ----- \n",
      " 0   id         885 non-null    object\n",
      " 1   asins      885 non-null    object\n",
      " 2   dimension  885 non-null    object\n",
      " 3   ean        169 non-null    object\n",
      " 4   keys       885 non-null    object\n",
      " 5   upc        885 non-null    object\n",
      " 6   weight     885 non-null    object\n",
      "dtypes: object(7)\n",
      "memory usage: 55.3+ KB\n"
     ]
    }
   ],
   "source": [
    "logistics.info()"
   ]
  },
  {
   "cell_type": "markdown",
   "metadata": {},
   "source": [
    "---"
   ]
  },
  {
   "cell_type": "markdown",
   "metadata": {},
   "source": [
    "#### Modification de la position des colonnes, des noms, puis export en CSV"
   ]
  },
  {
   "cell_type": "code",
   "execution_count": 57,
   "metadata": {},
   "outputs": [],
   "source": [
    "logistics = logistics[['asins', 'ean', 'upc', 'dimension', 'weight', 'keys', 'id']]"
   ]
  },
  {
   "cell_type": "code",
   "execution_count": 58,
   "metadata": {},
   "outputs": [],
   "source": [
    "logistics.rename(columns={\"id\": \"product_id\"}, inplace=True)"
   ]
  },
  {
   "cell_type": "code",
   "execution_count": 59,
   "metadata": {},
   "outputs": [],
   "source": [
    "logistics.to_csv('./CSV_Tables/logistics.csv', sep=',', encoding='utf-8', index=False)"
   ]
  },
  {
   "cell_type": "markdown",
   "metadata": {},
   "source": [
    "---"
   ]
  },
  {
   "cell_type": "markdown",
   "metadata": {},
   "source": [
    "## 4 - Création du CSV pour la table \"Reviews\""
   ]
  },
  {
   "cell_type": "markdown",
   "metadata": {},
   "source": [
    "#### *Document numéro 1 : Datafinity Electronics Product Data*"
   ]
  },
  {
   "cell_type": "code",
   "execution_count": 60,
   "metadata": {},
   "outputs": [],
   "source": [
    "df7 = pd.read_csv(\"./data/DatafinitiElectronicsProductData.csv\")"
   ]
  },
  {
   "cell_type": "markdown",
   "metadata": {},
   "source": [
    "---"
   ]
  },
  {
   "cell_type": "markdown",
   "metadata": {},
   "source": [
    "#### Affichage du nom des colonnes"
   ]
  },
  {
   "cell_type": "code",
   "execution_count": 61,
   "metadata": {},
   "outputs": [
    {
     "data": {
      "text/plain": [
       "Index(['id', 'asins', 'brand', 'categories', 'colors', 'dateAdded',\n",
       "       'dateUpdated', 'dimension', 'ean', 'imageURLs', 'keys', 'manufacturer',\n",
       "       'manufacturerNumber', 'name', 'primaryCategories', 'reviews.date',\n",
       "       'reviews.dateSeen', 'reviews.doRecommend', 'reviews.numHelpful',\n",
       "       'reviews.rating', 'reviews.sourceURLs', 'reviews.text', 'reviews.title',\n",
       "       'reviews.username', 'sourceURLs', 'upc', 'weight'],\n",
       "      dtype='object')"
      ]
     },
     "execution_count": 61,
     "metadata": {},
     "output_type": "execute_result"
    }
   ],
   "source": [
    "df7.columns"
   ]
  },
  {
   "cell_type": "markdown",
   "metadata": {},
   "source": [
    "---"
   ]
  },
  {
   "cell_type": "markdown",
   "metadata": {},
   "source": [
    "#### Suppression des colonnes non utlisées"
   ]
  },
  {
   "cell_type": "code",
   "execution_count": 62,
   "metadata": {},
   "outputs": [],
   "source": [
    "df7 = df7.drop([\"asins\", \"brand\", \"categories\", \"colors\", \"dateAdded\", \"dateUpdated\", \"dimension\", \"ean\", \n",
    "                \"imageURLs\", \"keys\", \"manufacturer\",\"manufacturerNumber\", \"name\", \"primaryCategories\", \n",
    "                \"sourceURLs\", \"upc\", \"weight\"], axis=1)"
   ]
  },
  {
   "cell_type": "code",
   "execution_count": 63,
   "metadata": {},
   "outputs": [
    {
     "data": {
      "text/plain": [
       "Index(['id', 'reviews.date', 'reviews.dateSeen', 'reviews.doRecommend',\n",
       "       'reviews.numHelpful', 'reviews.rating', 'reviews.sourceURLs',\n",
       "       'reviews.text', 'reviews.title', 'reviews.username'],\n",
       "      dtype='object')"
      ]
     },
     "execution_count": 63,
     "metadata": {},
     "output_type": "execute_result"
    }
   ],
   "source": [
    "df7.columns"
   ]
  },
  {
   "cell_type": "markdown",
   "metadata": {},
   "source": [
    "---"
   ]
  },
  {
   "cell_type": "markdown",
   "metadata": {},
   "source": [
    "#### *Document numéro 2 : Datafiniti Electronics Products Pricing Data*"
   ]
  },
  {
   "cell_type": "code",
   "execution_count": 64,
   "metadata": {},
   "outputs": [],
   "source": [
    "df8 = pd.read_csv(\"./data/DatafinitiElectronicsProductsPricingData.csv\")"
   ]
  },
  {
   "cell_type": "markdown",
   "metadata": {},
   "source": [
    "---"
   ]
  },
  {
   "cell_type": "markdown",
   "metadata": {},
   "source": [
    "#### Affichage du nom des colonnes"
   ]
  },
  {
   "cell_type": "code",
   "execution_count": 65,
   "metadata": {},
   "outputs": [
    {
     "data": {
      "text/plain": [
       "Index(['id', 'prices.amountMax', 'prices.amountMin', 'prices.availability',\n",
       "       'prices.condition', 'prices.currency', 'prices.dateSeen',\n",
       "       'prices.isSale', 'prices.merchant', 'prices.shipping',\n",
       "       'prices.sourceURLs', 'asins', 'brand', 'categories', 'dateAdded',\n",
       "       'dateUpdated', 'ean', 'imageURLs', 'keys', 'manufacturer',\n",
       "       'manufacturerNumber', 'name', 'primaryCategories', 'sourceURLs', 'upc',\n",
       "       'weight', 'Unnamed: 26', 'Unnamed: 27', 'Unnamed: 28', 'Unnamed: 29',\n",
       "       'Unnamed: 30'],\n",
       "      dtype='object')"
      ]
     },
     "execution_count": 65,
     "metadata": {},
     "output_type": "execute_result"
    }
   ],
   "source": [
    "df8.columns"
   ]
  },
  {
   "cell_type": "markdown",
   "metadata": {},
   "source": [
    "---"
   ]
  },
  {
   "cell_type": "markdown",
   "metadata": {},
   "source": [
    "#### Suppression des colonnes non utlisées"
   ]
  },
  {
   "cell_type": "code",
   "execution_count": 66,
   "metadata": {},
   "outputs": [],
   "source": [
    "df8 = df8.drop([\"prices.amountMax\", \"prices.amountMin\", \"prices.availability\", \"prices.condition\", \"prices.currency\", \n",
    "                \"prices.dateSeen\", \"prices.isSale\", \"prices.merchant\", \"prices.shipping\", \"prices.sourceURLs\", \"asins\", \n",
    "                \"brand\", \"categories\", \"dateAdded\", \"dateUpdated\", \"ean\", \"imageURLs\", \"keys\", \"manufacturer\", \"manufacturerNumber\", \n",
    "                \"name\", \"primaryCategories\", \"sourceURLs\", \"upc\", \"weight\", \"Unnamed: 26\", \"Unnamed: 27\", \"Unnamed: 28\", \"Unnamed: 29\",\n",
    "                \"Unnamed: 30\"], axis=1)"
   ]
  },
  {
   "cell_type": "code",
   "execution_count": 67,
   "metadata": {},
   "outputs": [
    {
     "data": {
      "text/plain": [
       "Index(['id'], dtype='object')"
      ]
     },
     "execution_count": 67,
     "metadata": {},
     "output_type": "execute_result"
    }
   ],
   "source": [
    "df8.columns"
   ]
  },
  {
   "cell_type": "markdown",
   "metadata": {},
   "source": [
    "---"
   ]
  },
  {
   "cell_type": "markdown",
   "metadata": {},
   "source": [
    "#### Concatenation des deux dataframes"
   ]
  },
  {
   "cell_type": "code",
   "execution_count": 68,
   "metadata": {},
   "outputs": [],
   "source": [
    "reviews = df7.append(df8, ignore_index=True, sort=False)"
   ]
  },
  {
   "cell_type": "code",
   "execution_count": 69,
   "metadata": {},
   "outputs": [
    {
     "name": "stdout",
     "output_type": "stream",
     "text": [
      "<class 'pandas.core.frame.DataFrame'>\n",
      "RangeIndex: 14548 entries, 0 to 14547\n",
      "Data columns (total 10 columns):\n",
      " #   Column               Non-Null Count  Dtype  \n",
      "---  ------               --------------  -----  \n",
      " 0   id                   14548 non-null  object \n",
      " 1   reviews.date         7238 non-null   object \n",
      " 2   reviews.dateSeen     7299 non-null   object \n",
      " 3   reviews.doRecommend  5908 non-null   object \n",
      " 4   reviews.numHelpful   5813 non-null   float64\n",
      " 5   reviews.rating       7135 non-null   float64\n",
      " 6   reviews.sourceURLs   7299 non-null   object \n",
      " 7   reviews.text         7294 non-null   object \n",
      " 8   reviews.title        7295 non-null   object \n",
      " 9   reviews.username     7299 non-null   object \n",
      "dtypes: float64(2), object(8)\n",
      "memory usage: 1.1+ MB\n"
     ]
    }
   ],
   "source": [
    "reviews.info()"
   ]
  },
  {
   "cell_type": "markdown",
   "metadata": {},
   "source": [
    "---"
   ]
  },
  {
   "cell_type": "markdown",
   "metadata": {},
   "source": [
    "#### Suppression des doublons"
   ]
  },
  {
   "cell_type": "code",
   "execution_count": 70,
   "metadata": {},
   "outputs": [],
   "source": [
    "reviews = reviews.drop_duplicates()"
   ]
  },
  {
   "cell_type": "code",
   "execution_count": 71,
   "metadata": {},
   "outputs": [
    {
     "name": "stdout",
     "output_type": "stream",
     "text": [
      "<class 'pandas.core.frame.DataFrame'>\n",
      "Int64Index: 8134 entries, 0 to 14537\n",
      "Data columns (total 10 columns):\n",
      " #   Column               Non-Null Count  Dtype  \n",
      "---  ------               --------------  -----  \n",
      " 0   id                   8134 non-null   object \n",
      " 1   reviews.date         7238 non-null   object \n",
      " 2   reviews.dateSeen     7299 non-null   object \n",
      " 3   reviews.doRecommend  5908 non-null   object \n",
      " 4   reviews.numHelpful   5813 non-null   float64\n",
      " 5   reviews.rating       7135 non-null   float64\n",
      " 6   reviews.sourceURLs   7299 non-null   object \n",
      " 7   reviews.text         7294 non-null   object \n",
      " 8   reviews.title        7295 non-null   object \n",
      " 9   reviews.username     7299 non-null   object \n",
      "dtypes: float64(2), object(8)\n",
      "memory usage: 699.0+ KB\n"
     ]
    }
   ],
   "source": [
    "reviews.info()"
   ]
  },
  {
   "cell_type": "markdown",
   "metadata": {},
   "source": [
    "---"
   ]
  },
  {
   "cell_type": "markdown",
   "metadata": {},
   "source": [
    "#### Modification de la position des colonnes, des noms, puis export en CSV"
   ]
  },
  {
   "cell_type": "code",
   "execution_count": 72,
   "metadata": {},
   "outputs": [],
   "source": [
    "reviews = reviews[[\"id\", \"reviews.username\", \"reviews.date\", \"reviews.title\", \"reviews.text\", \"reviews.rating\", \n",
    "                   \"reviews.doRecommend\", \"reviews.numHelpful\", \"reviews.dateSeen\", \"reviews.sourceURLs\"]]"
   ]
  },
  {
   "cell_type": "code",
   "execution_count": 73,
   "metadata": {},
   "outputs": [],
   "source": [
    "reviews.rename(columns={\"id\": \"product_id\", \"reviews.username\": \"username\", \"reviews.date\": \"date\", \"reviews.title\": \"title\", \n",
    "                        \"reviews.text\": \"text\", \"reviews.rating\": \"rating\", \"reviews.doRecommend\": \"doRecommend\", \n",
    "                        \"reviews.numHelpful\": \"numHelpful\", \"reviews.dateSeen\": \"dateSeen\", \"reviews.sourceURLs\": \"sourceURLs\"},\n",
    "               inplace=True)"
   ]
  },
  {
   "cell_type": "markdown",
   "metadata": {},
   "source": [
    "Autre méthode : \n",
    "```sql \n",
    "reviews.columns.str.replace(\"reviews.\", \" \")\n",
    "```\n"
   ]
  },
  {
   "cell_type": "code",
   "execution_count": 74,
   "metadata": {},
   "outputs": [
    {
     "data": {
      "text/plain": [
       "array([ 5.,  4.,  3.,  2.,  1., nan])"
      ]
     },
     "execution_count": 74,
     "metadata": {},
     "output_type": "execute_result"
    }
   ],
   "source": [
    "reviews.rating.unique()"
   ]
  },
  {
   "cell_type": "code",
   "execution_count": 75,
   "metadata": {},
   "outputs": [],
   "source": [
    "reviews.to_csv('./CSV_Tables/reviews.csv', sep=',', encoding='utf-8', index=False)"
   ]
  },
  {
   "cell_type": "markdown",
   "metadata": {},
   "source": [
    "---"
   ]
  },
  {
   "cell_type": "markdown",
   "metadata": {},
   "source": [
    "## 5 - Création du CSV pour la table \"Prices\""
   ]
  },
  {
   "cell_type": "markdown",
   "metadata": {},
   "source": [
    "#### *Document numéro 1 : Datafinity Electronics Product Data*"
   ]
  },
  {
   "cell_type": "code",
   "execution_count": 76,
   "metadata": {},
   "outputs": [],
   "source": [
    "df9 = pd.read_csv(\"./data/DatafinitiElectronicsProductData.csv\")"
   ]
  },
  {
   "cell_type": "markdown",
   "metadata": {},
   "source": [
    "---"
   ]
  },
  {
   "cell_type": "markdown",
   "metadata": {},
   "source": [
    "#### Affichage du nom des colonnes"
   ]
  },
  {
   "cell_type": "code",
   "execution_count": 77,
   "metadata": {},
   "outputs": [
    {
     "data": {
      "text/plain": [
       "Index(['id', 'asins', 'brand', 'categories', 'colors', 'dateAdded',\n",
       "       'dateUpdated', 'dimension', 'ean', 'imageURLs', 'keys', 'manufacturer',\n",
       "       'manufacturerNumber', 'name', 'primaryCategories', 'reviews.date',\n",
       "       'reviews.dateSeen', 'reviews.doRecommend', 'reviews.numHelpful',\n",
       "       'reviews.rating', 'reviews.sourceURLs', 'reviews.text', 'reviews.title',\n",
       "       'reviews.username', 'sourceURLs', 'upc', 'weight'],\n",
       "      dtype='object')"
      ]
     },
     "execution_count": 77,
     "metadata": {},
     "output_type": "execute_result"
    }
   ],
   "source": [
    "df9.columns"
   ]
  },
  {
   "cell_type": "markdown",
   "metadata": {},
   "source": [
    "---"
   ]
  },
  {
   "cell_type": "markdown",
   "metadata": {},
   "source": [
    "#### Suppression des colonnes non utlisées"
   ]
  },
  {
   "cell_type": "code",
   "execution_count": 78,
   "metadata": {},
   "outputs": [],
   "source": [
    "df9 = df9.drop([\"asins\", \"brand\", \"categories\", \"colors\", \"dateAdded\", \"dateUpdated\", \"dimension\", \n",
    "                \"ean\", \"imageURLs\", \"keys\", \"manufacturer\", \"manufacturerNumber\", \"name\", \"primaryCategories\", \n",
    "                \"reviews.date\", \"reviews.dateSeen\", \"reviews.doRecommend\", \"reviews.numHelpful\", \"reviews.rating\", \n",
    "                \"reviews.sourceURLs\", \"reviews.text\", \"reviews.title\", \"reviews.username\", \"sourceURLs\", \"upc\", \"weight\"], axis=1)"
   ]
  },
  {
   "cell_type": "code",
   "execution_count": 79,
   "metadata": {},
   "outputs": [
    {
     "data": {
      "text/plain": [
       "Index(['id'], dtype='object')"
      ]
     },
     "execution_count": 79,
     "metadata": {},
     "output_type": "execute_result"
    }
   ],
   "source": [
    "df9.columns"
   ]
  },
  {
   "cell_type": "markdown",
   "metadata": {},
   "source": [
    "---"
   ]
  },
  {
   "cell_type": "markdown",
   "metadata": {},
   "source": [
    "#### *Document numéro 2 : Datafiniti Electronics Products Pricing Data*"
   ]
  },
  {
   "cell_type": "code",
   "execution_count": 80,
   "metadata": {},
   "outputs": [],
   "source": [
    "df10 = pd.read_csv(\"./data/DatafinitiElectronicsProductsPricingData.csv\")"
   ]
  },
  {
   "cell_type": "markdown",
   "metadata": {},
   "source": [
    "---"
   ]
  },
  {
   "cell_type": "markdown",
   "metadata": {},
   "source": [
    "#### Affichage du nom des colonnes"
   ]
  },
  {
   "cell_type": "code",
   "execution_count": 81,
   "metadata": {},
   "outputs": [
    {
     "data": {
      "text/plain": [
       "Index(['id', 'prices.amountMax', 'prices.amountMin', 'prices.availability',\n",
       "       'prices.condition', 'prices.currency', 'prices.dateSeen',\n",
       "       'prices.isSale', 'prices.merchant', 'prices.shipping',\n",
       "       'prices.sourceURLs', 'asins', 'brand', 'categories', 'dateAdded',\n",
       "       'dateUpdated', 'ean', 'imageURLs', 'keys', 'manufacturer',\n",
       "       'manufacturerNumber', 'name', 'primaryCategories', 'sourceURLs', 'upc',\n",
       "       'weight', 'Unnamed: 26', 'Unnamed: 27', 'Unnamed: 28', 'Unnamed: 29',\n",
       "       'Unnamed: 30'],\n",
       "      dtype='object')"
      ]
     },
     "execution_count": 81,
     "metadata": {},
     "output_type": "execute_result"
    }
   ],
   "source": [
    "df10.columns"
   ]
  },
  {
   "cell_type": "markdown",
   "metadata": {},
   "source": [
    "---"
   ]
  },
  {
   "cell_type": "markdown",
   "metadata": {},
   "source": [
    "#### Suppression des colonnes non utlisées"
   ]
  },
  {
   "cell_type": "code",
   "execution_count": 82,
   "metadata": {},
   "outputs": [],
   "source": [
    "df10 = df10.drop([\"asins\", \"brand\", \"categories\", \"dateAdded\",\"dateUpdated\", \"ean\", \n",
    "                  \"imageURLs\", \"keys\", \"manufacturer\", \"manufacturerNumber\", \"name\", \n",
    "                  \"primaryCategories\", \"sourceURLs\", \"upc\", \"weight\", \"Unnamed: 26\", \n",
    "                  \"Unnamed: 27\", \"Unnamed: 28\", \"Unnamed: 29\", \"Unnamed: 30\"], axis=1)"
   ]
  },
  {
   "cell_type": "code",
   "execution_count": 83,
   "metadata": {},
   "outputs": [
    {
     "data": {
      "text/plain": [
       "Index(['id', 'prices.amountMax', 'prices.amountMin', 'prices.availability',\n",
       "       'prices.condition', 'prices.currency', 'prices.dateSeen',\n",
       "       'prices.isSale', 'prices.merchant', 'prices.shipping',\n",
       "       'prices.sourceURLs'],\n",
       "      dtype='object')"
      ]
     },
     "execution_count": 83,
     "metadata": {},
     "output_type": "execute_result"
    }
   ],
   "source": [
    "df10.columns"
   ]
  },
  {
   "cell_type": "markdown",
   "metadata": {},
   "source": [
    "---"
   ]
  },
  {
   "cell_type": "markdown",
   "metadata": {},
   "source": [
    "#### Concatenation des deux dataframes"
   ]
  },
  {
   "cell_type": "code",
   "execution_count": 84,
   "metadata": {},
   "outputs": [],
   "source": [
    "prices = df9.append(df10, ignore_index=True, sort=False)"
   ]
  },
  {
   "cell_type": "code",
   "execution_count": 85,
   "metadata": {},
   "outputs": [
    {
     "name": "stdout",
     "output_type": "stream",
     "text": [
      "<class 'pandas.core.frame.DataFrame'>\n",
      "RangeIndex: 14548 entries, 0 to 14547\n",
      "Data columns (total 11 columns):\n",
      " #   Column               Non-Null Count  Dtype  \n",
      "---  ------               --------------  -----  \n",
      " 0   id                   14548 non-null  object \n",
      " 1   prices.amountMax     7249 non-null   float64\n",
      " 2   prices.amountMin     7249 non-null   float64\n",
      " 3   prices.availability  7249 non-null   object \n",
      " 4   prices.condition     7249 non-null   object \n",
      " 5   prices.currency      7249 non-null   object \n",
      " 6   prices.dateSeen      7249 non-null   object \n",
      " 7   prices.isSale        7249 non-null   object \n",
      " 8   prices.merchant      7249 non-null   object \n",
      " 9   prices.shipping      4277 non-null   object \n",
      " 10  prices.sourceURLs    7249 non-null   object \n",
      "dtypes: float64(2), object(9)\n",
      "memory usage: 1.2+ MB\n"
     ]
    }
   ],
   "source": [
    "prices.info()"
   ]
  },
  {
   "cell_type": "markdown",
   "metadata": {},
   "source": [
    "---"
   ]
  },
  {
   "cell_type": "markdown",
   "metadata": {},
   "source": [
    "#### Suppression des doublons"
   ]
  },
  {
   "cell_type": "code",
   "execution_count": 86,
   "metadata": {},
   "outputs": [],
   "source": [
    "prices = prices.drop_duplicates()"
   ]
  },
  {
   "cell_type": "code",
   "execution_count": 87,
   "metadata": {},
   "outputs": [
    {
     "name": "stdout",
     "output_type": "stream",
     "text": [
      "<class 'pandas.core.frame.DataFrame'>\n",
      "Int64Index: 7299 entries, 0 to 14547\n",
      "Data columns (total 11 columns):\n",
      " #   Column               Non-Null Count  Dtype  \n",
      "---  ------               --------------  -----  \n",
      " 0   id                   7299 non-null   object \n",
      " 1   prices.amountMax     7249 non-null   float64\n",
      " 2   prices.amountMin     7249 non-null   float64\n",
      " 3   prices.availability  7249 non-null   object \n",
      " 4   prices.condition     7249 non-null   object \n",
      " 5   prices.currency      7249 non-null   object \n",
      " 6   prices.dateSeen      7249 non-null   object \n",
      " 7   prices.isSale        7249 non-null   object \n",
      " 8   prices.merchant      7249 non-null   object \n",
      " 9   prices.shipping      4277 non-null   object \n",
      " 10  prices.sourceURLs    7249 non-null   object \n",
      "dtypes: float64(2), object(9)\n",
      "memory usage: 684.3+ KB\n"
     ]
    }
   ],
   "source": [
    "prices.info()"
   ]
  },
  {
   "cell_type": "markdown",
   "metadata": {},
   "source": [
    "---"
   ]
  },
  {
   "cell_type": "markdown",
   "metadata": {},
   "source": [
    "#### Modification de la position des colonnes, des noms, puis export en CSV"
   ]
  },
  {
   "cell_type": "code",
   "execution_count": 88,
   "metadata": {},
   "outputs": [],
   "source": [
    "prices = prices[[\"prices.amountMax\", \"prices.amountMin\", \"prices.availability\", \"prices.condition\", \"prices.currency\", \n",
    "                 \"prices.dateSeen\", \"prices.isSale\", \"prices.merchant\", \"prices.shipping\", \"prices.sourceURLs\", \"id\"]]"
   ]
  },
  {
   "cell_type": "code",
   "execution_count": 89,
   "metadata": {},
   "outputs": [],
   "source": [
    "prices.rename(columns={\"prices.amountMax\": \"amountMax\", \"prices.amountMin\": \"amountMin\", \"prices.availability\": \"availability\", \n",
    "                       \"prices.condition\": \"condition\", \"prices.currency\": \"currency\", \"prices.dateSeen\": \"dateSeen\", \n",
    "                       \"prices.isSale\": \"isSale\", \"prices.Merchant\": \"Merchant\", \"prices.shipping\": \"shipping\", \n",
    "                       \"prices.sourceURLs\": \"sourceURLs\", \"id\": \"product_id\"}, inplace=True)"
   ]
  },
  {
   "cell_type": "code",
   "execution_count": 90,
   "metadata": {},
   "outputs": [],
   "source": [
    "prices.to_csv('./CSV_Tables/prices.csv', sep=',', encoding='utf-8', index=False)"
   ]
  },
  {
   "cell_type": "markdown",
   "metadata": {},
   "source": [
    "---"
   ]
  }
 ],
 "metadata": {
  "kernelspec": {
   "display_name": "Python 3",
   "language": "python",
   "name": "python3"
  },
  "language_info": {
   "codemirror_mode": {
    "name": "ipython",
    "version": 3
   },
   "file_extension": ".py",
   "mimetype": "text/x-python",
   "name": "python",
   "nbconvert_exporter": "python",
   "pygments_lexer": "ipython3",
   "version": "3.8.6"
  }
 },
 "nbformat": 4,
 "nbformat_minor": 4
}
