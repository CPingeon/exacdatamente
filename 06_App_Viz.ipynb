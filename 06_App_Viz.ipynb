{
 "cells": [
  {
   "cell_type": "markdown",
   "metadata": {},
   "source": [
    "# (06) Création de la BDD, des tables et import des données sur PostgreSQL"
   ]
  },
  {
   "cell_type": "code",
   "execution_count": 57,
   "metadata": {},
   "outputs": [],
   "source": [
    "from jinja2 import Environment, FileSystemLoader\n",
    "import os\n",
    " \n",
    "root = os.path.dirname(os.path.abspath(\"__file__\"))\n",
    "templates_dir = os.path.join(root, 'templates')\n",
    "env = Environment( loader = FileSystemLoader(templates_dir) )\n",
    "template = env.get_template('index.html')\n",
    "\n",
    "filename = os.path.join(root, 'html', 'index.html')\n",
    "with open(filename, 'w') as fh:\n",
    "    fh.write(template.render(\n",
    "        h1 = \"Dashboard Exacdatamente\",\n",
    "        show_one = True,\n",
    "        show_two = True,\n",
    "        show_three = True,\n",
    "        show_four = True,\n",
    "        show_five = True,\n",
    "        show_six = True,\n",
    "        show_seven = True,\n",
    "        show_eight = True,\n",
    "        show_nine = True,\n",
    "        show_ten = True,\n",
    "        show_eleven = True,\n",
    "        show_twelve = True,\n",
    "        show_thirteen = True,\n",
    "        show_fourteen = True,\n",
    "        show_fifteen = True,\n",
    "    ))"
   ]
  },
  {
   "cell_type": "markdown",
   "metadata": {},
   "source": [
    "---"
   ]
  }
 ],
 "metadata": {
  "kernelspec": {
   "display_name": "Python 3",
   "language": "python",
   "name": "python3"
  },
  "language_info": {
   "codemirror_mode": {
    "name": "ipython",
    "version": 3
   },
   "file_extension": ".py",
   "mimetype": "text/x-python",
   "name": "python",
   "nbconvert_exporter": "python",
   "pygments_lexer": "ipython3",
   "version": "3.8.6"
  }
 },
 "nbformat": 4,
 "nbformat_minor": 4
}
